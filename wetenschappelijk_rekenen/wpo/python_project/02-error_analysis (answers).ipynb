{
 "cells": [
  {
   "cell_type": "markdown",
   "metadata": {},
   "source": [
    "# Sessie 2 - Foutenanalyse\n",
    "\n",
    "In computers worden getallen inherent voorgesteld in hun floating-point representatie. De precisie hiervan is zeer hoog, maar de fout op de uitvoer kan opblazen wanneer het algoritme numeriek onstabiel is. In de meeste domeinen, zijn zulke foutmarges ongewenst.\n",
    "\n",
    "In deze oefeningsessie maken we oefeningen rond numerieke stabiliteit. <b>(Gebruik voor de oefeningen altijd een eerste orde analyse.)</b>"
   ]
  },
  {
   "cell_type": "markdown",
   "metadata": {},
   "source": [
    "# Herhaling\n",
    "\n"
   ]
  },
  {
   "cell_type": "markdown",
   "metadata": {},
   "source": [
    "## 1. Conditionering\n",
    "\n",
    "Geef een definitie voor conditionering met meer dan 1 invoer waarbij de relatieve fout gegeven wordt door\n",
    "$$\\delta x = \\frac{||fl(x) - x||}{||x||}$$\n",
    "met $||\\cdot||$ de 2-norm.\n",
    "\n",
    "(Hint: Gebruik de Jacobiaan $(i.e., \\nabla F(x))$ voor de afgeleide van de functie $F$ naar meerdere inputs.)"
   ]
  },
  {
   "cell_type": "markdown",
   "metadata": {},
   "source": [
    "<b>ANTWOORD:</b>\n",
    "\n",
    "Relatieve fout op $F(x)$:\n",
    "* $\\delta F = \\frac{||\\color{blue}{F(fl(x))} - F(x)||}{||F(x)||}$\n",
    "  * $\\color{blue}{F(fl(x))} = F(x + \\Delta x)$\n",
    "      * $ F(x) \\stackrel{\\text{Taylor}}{\\approx} F(a) + F'(a)(x-a)$\n",
    "      * $ F(fl(x))\\stackrel{\\text{Taylor}}{\\approx} F(x) + F'(x)(fl(x) - x))$\n",
    "  * $\\color{blue}{F(fl(x))} = F(x + \\Delta x) \\stackrel{\\text{Taylor}}{\\approx} F(x) + \\nabla F(x) \\Delta x \\Leftrightarrow \\color{green}{F(fl(x)) - F(x)} = \\color{green}{\\nabla F(x) \\Delta x}$\n",
    "* $\\delta F = \\frac{||\\color{green}{F(fl(x)) - F(x)}||}{||F(x)||} = \\frac{||\\color{green}{\\nabla F(x) \\Delta x}||}{||F(x)||} = \\frac{|\\color{green}{\\nabla F(x) \\Delta x}|}{|F(x)|} $ [Lengte van een waarde $\\Rightarrow$  absolute waarde]\n",
    " * $ \\frac{|\\color{green}{\\nabla F(x) \\Delta x}|}{|F(x)|} \\le \\frac{||\\nabla F(x)||\\cdot ||\\Delta x||}{|F(x)|}$ [Cauchy-Schwarz ongelijkheid: $|x^T\\cdot y| \\le ||x^T||\\cdot||y||$ voor kolomvectors $x, y$]\n",
    " * $\\delta x = \\frac{||fl(x) - x||}{||x||} = \\frac{||x + \\Delta x - x||}{||x||} \\Leftrightarrow \\color{red}{\\delta x ||x||} = \\color{red}{||\\Delta x||}$\n",
    "* $\\delta F \\le \\frac{||\\nabla F(x)||.\\color{red}{||\\Delta x||}}{|F(x)|} = \\frac{||\\nabla F(x)||.\\color{red}{||x||}}{|F(x)|}\\color{red}{\\delta x }$\n",
    "* $\\delta F \\le \\color{purple}{\\frac{||\\nabla F(x)||.||x||}{|F(x)|}}\\delta x = \\color{purple}{\\gamma F} \\delta x$\n",
    "\n",
    "Conditiegetal op $F(x)$:\n",
    "* $\\gamma F = \\frac{||\\nabla F(x)||.||x||}{|F(x)|}$"
   ]
  },
  {
   "cell_type": "markdown",
   "metadata": {},
   "source": [
    "## 2. Zwakke stabiliteit\n",
    "\n",
    "Toon aan dat de aftrekking van twee getallen met eenzelfde teken zwak stabiel is, gebruikmakend van een eerste orde analyse (i.e., alleen lineaire foutbijdragen worden in rekening genomen).\n",
    "\n",
    "Een algoritme is zwak stabiel als haar *onvermijdelijke fout* vergelijkbaar is met de *conditionering* van het probleem.\n",
    "$$\\delta F(x) = C \\gamma \\epsilon  \\qquad\\text{[met $C > 0$]}$$\n",
    "\n",
    "Dus, beschouw:\n",
    "$$F(x, y) =  x - y$$\n",
    "$$F_{fl}(x, y) =  fl(fl(x) - fl(y))$$\n",
    "met $x, y \\ge 0$ zonder verlies van algemeenheid en $F_{fl}$ correspondeert aan de functie $F$ met floating-point aritmetiek $fl$.\n",
    "\n",
    "(Opmerking: zie de eerste oefening voor het conditiegetal van een functie met meerdere inputs.)"
   ]
  },
  {
   "cell_type": "markdown",
   "metadata": {},
   "source": [
    "## <b>ANTWOORD:</b>\n",
    "\n",
    "Eerst zullen we kijken waar de functie $F_{fl}(x, y)$ numeriek onstabiel wordt.\n",
    "\n",
    "#### Stap 1: Bereken de onvermijdelijke fout via voorwaartse foutanalyse:\n",
    "\n",
    "$$\\begin{split} \\color{blue}{F_{fl}(x, y)} &= fl(fl(x) - fl(y))\\\\\n",
    "    &\\approx fl(x - y)&\\text{ [Negeer invoerfout! Aangezien we enkel de onvermijdelijke fout willen]} \\\\\n",
    "    &= (x - y)(1 + \\eta_{-}) \\\\\n",
    "    &= x + \\eta_{-}x - y - \\eta_{-}y \\\\\n",
    "    &= \\color{blue}{x - y + x\\eta_{-} - y\\eta_{-}} \\\\\n",
    "    \\end{split}$$\n",
    "\n",
    "* Bereken de relatieve fout:\n",
    "$$\\begin{split}\n",
    "\\delta F(x, y) \n",
    "&= \\frac{\\color{blue}{|F_{fl}(x, y)} - \\color{green}{F(x, y)}|}{|\\color{green}{F(x, y)}|} = \\frac{|\\color{blue}{x - y + x\\eta_{-} - y\\eta_{-}} - \\color{green}{(x - y)}|}{|\\color{green}{x - y}|}&\\\\\n",
    "&= \\frac{|x\\eta_{-} - y\\eta_{-}|}{|x - y|} = \\frac{|x\\eta_{-} + (-y\\eta_{-})|}{|x - y|}&\\\\\n",
    "&\\le \\frac{|x\\eta_{-}| + |-y\\eta_{-}|}{|x - y|} = \\frac{|x\\eta_{-}| + |y\\eta_{-}|}{|x - y|} &\\text{ [Driehoeksongelijkheid: $|x + y| \\le |x| + |y|$]}\\\\\n",
    "&=\\frac{x\\eta_{-} + y\\eta_{-}}{|x - y|}&\\text{ [$x, y, \\eta_{-} \\ge 0$]}\\\\\n",
    "&\\le \\frac{x\\color{blue}{\\epsilon} + y\\color{blue}{\\epsilon}}{|x - y|}&\\text{[$|\\eta_{-}| \\le \\epsilon$] (slide 15)}\\\\\n",
    "&= \\epsilon \\frac{|x| + |y|}{|x - y|}&\\text{[notatie slide 16]}\n",
    "\\end{split}$$\n",
    "\n",
    "De functie $F_{fl}(x, y)$ is onstabiel rond $|x - y| \\approx 0$.\n",
    "\n",
    "Het algoritme is mogelijks zwak stabiel indien er een constante $C$ bestaat die de expressie $\\delta F \\le C\\epsilon$ eindig maakt.<br> Daarvoor moeten we conditiegetal van het probleem berekenen. Indien de onvermijdelijke fout vergelijkbaar is met de conditionering van het probleem dan is het algoritme numeriek zwak stabiel! (slide 37)\n",
    "\n",
    "\n",
    "#### Stap 2: Bereken het conditiegetal (zie eerste oefening voor conditionering met meerdere inputs)\n",
    "\n",
    "\n",
    "$$\\begin{split}\n",
    "\\color{green}{\\gamma F}\n",
    "&= \\frac{||\\nabla F(x, y)||.||(x, y)||}{|F(x, y)|}&\\\\\n",
    "&= \\frac{||(1, -1)||.||(x, y)||}{|x - y|}&\\\\\n",
    "&= \\frac{\\sqrt{1 + (-1)^2} \\sqrt{x^2 + y^2}}{|x - y|}&\\text{[$||x_1,x_2,..,x_n|| = \\sqrt{\\sum_{i=0}^n{x_i^2}}$]}\\\\\n",
    "&= \\color{green}{\\frac{\\sqrt{2} \\sqrt{x^2 + y^2}}{|x - y|}}&\\\\\n",
    "\\end{split}$$\n",
    "\n",
    "#### Stap 3: Aantonen dat onvermijdelijke fout $\\approx$ conditionering\n",
    "\n",
    "Met andere woorden, we tonen aan dat de er een constante $C$ bestaat zodat: $\\delta F(x,y) = C \\gamma F \\epsilon$ met $C > 0$.\n",
    "\n",
    "Zwakke stabiliteit rond $|x - y| \\approx 0$:\n",
    "$$\\begin{split}\n",
    "\\delta F \n",
    "&\\le \\epsilon \\frac{x + y}{|x - y|}&\\\\\n",
    "&= \\epsilon \\frac{\\color{blue}{x + y}}{\\color{red}{|x - y|}} \\frac{\\color{red}{|x - y|}}{\\color{blue}{\\sqrt{2} \\sqrt{x^2 + y^2}}} \\color{green}{\\frac{\\sqrt{2} \\sqrt{x^2 + y^2}}{|x - y|}}& \\text{[$* \\frac{A}{B} * \\frac{B}{A}$]}\\\\\n",
    "&= \\color{blue}{\\frac{x + y}{\\sqrt{2}\\sqrt{x^2 + y^2}}} \\color{green}{\\gamma F} \\epsilon \\\\\n",
    "&= \\color{blue}{C} \\gamma F \\epsilon\n",
    "\\end{split}$$\n",
    "\n",
    "#### Stap 4: Aantonen dat C eindig is.\n",
    "\n",
    "Stel $|x - y| \\le \\eta$, zodat $0 \\le \\color{purple}{y - \\eta} \\le x \\le \\color{purple}{y + \\eta}$.\n",
    "\n",
    "We willen een bovengrens op $C$ bepalen.\n",
    "$$\\begin{split}C &= \\frac{x + y}{\\sqrt{2} \\sqrt{x^2 + y^2}} \\le \\frac{\\color{purple}{y + \\eta} + y}{\\sqrt{2} \\sqrt{(\\color{purple}{y - \\eta})^2 + y^2}}&\\text{[$x$ vervangen, max(teller) als $y + \\eta$, min(noemer) als $y - \\eta$]}\\\\\n",
    "&= \\frac{2y + \\eta}{\\sqrt{2} \\sqrt{2y^2 - 2y\\eta + \\eta^2}} = \\frac{2y + \\eta}{\\sqrt{2} \\sqrt{\\color{red}{2y(y - \\eta)} + \\eta^2}}&\\\\\n",
    "&\\le \\frac{2y + \\eta}{\\sqrt{2} \\sqrt{\\eta^2}}&\\text{ [$\\eta, y, (y - \\eta) > 0$]}\\\\\n",
    "&\\le \\frac{2y + \\eta}{\\eta\\sqrt{2}}&\\end{split}$$\n",
    "\n",
    "De aftrekking is zwak stabiel rond $|x - y| \\approx 0$.\n",
    "Voor $y \\rightarrow \\infty$ is er GEEN constante C, de aftrekking is dus niet uniform zwak stabiel. \n",
    "MAAR, aangezien we met computers werken, zal $y$ altijd eindig zijn en bestaat er dus altijd een constante."
   ]
  },
  {
   "cell_type": "markdown",
   "metadata": {},
   "source": [
    "# Extra oefeningen (oplossingen volgende week)"
   ]
  },
  {
   "cell_type": "markdown",
   "metadata": {},
   "source": [
    "## 3. Discriminantmethode\n",
    "\n",
    "Pas de discriminantmethode toe op de vergelijking\n",
    "$10^{-3} x^2 + 5 x + 10^{-1} = 0$\n",
    "in een systeem met precisie 3.\n",
    "\n",
    "De discriminantmethode past de volgende formule toe:\n",
    "$$\\frac{-b \\pm \\sqrt{b^2 - 4ac}}{2a}$$\n",
    "voor een vergelijking $ax^2 + bx + c = 0$.\n",
    "\n",
    "Deze methode lijdt aan \"catastrophic cancellation\", aangezien\n",
    "\n",
    "* $\\frac{-b + \\sqrt{b^2 - 4ac}}{2a} = \\frac{-5 + \\sqrt{5^2 - 4 \\cdot \\color{red}{10^{-4}}}}{2 \\cdot 10^{-3}} \\stackrel{\\color{blue}{\\text{prec. 3}}}{\\approx} \\frac{-5 + \\sqrt{5^2 -  \\color{red}{0}}}{2 \\cdot 10^{-3}} = 0$\n",
    "\n",
    "terwijl de exacte oplossing\n",
    "\n",
    "* $\\frac{-5 + \\sqrt{5^2 - 4 \\cdot 10^{-4}}}{2 \\cdot 10^{-3}} \\approx \\frac{-4 \\cdot 10^{-5}}{2 \\cdot 10^{-3}} = -0.02$\n",
    "\n",
    "geeft.\n",
    "\n",
    "Gegeven dat je een positieve $b$ hebt en een aftrekking van twee getallen met hetzelfde teken, kan je deze methode stabiliseren?"
   ]
  },
  {
   "cell_type": "code",
   "execution_count": 1,
   "metadata": {},
   "outputs": [
    {
     "data": {
      "text/plain": [
       "-4.0000160001163465e-05"
      ]
     },
     "execution_count": 1,
     "metadata": {},
     "output_type": "execute_result"
    }
   ],
   "source": [
    "import numpy as np\n",
    "-5 + np.sqrt(5**2 - (4 * 10**(-4)))"
   ]
  },
  {
   "cell_type": "markdown",
   "metadata": {},
   "source": [
    "Oplossing:\n",
    "\n",
    "$$\\frac{-b \\pm \\sqrt{b^2 - 4ac}}{2a}$$\n",
    "\n",
    "Probleem: bij de tweede case (-) en wanneer $a$ en $c$ zeer klein zijn:\n",
    "$$ = \\sqrt{b^2 - 4ac} -b$$\n",
    "\n",
    "Stabiliseren door: \n",
    "$$ = \\frac{\\sqrt{b^2 - 4ac} -b}{2a}$$\n",
    "$$ = \\frac{\\sqrt{b^2 - 4ac} -b}{2a} * \\frac{\\sqrt{b^2 - 4ac} + b}{\\sqrt{b^2 - 4ac} + b}$$\n",
    "$$ = \\frac{b^2 - 4ac -b^2}{2a \\sqrt{b^2 - 4ac} + b}$$\n",
    "$$ = \\frac{- 2c}{\\sqrt{b^2 - 4ac} + b}$$\n",
    "\n",
    "Afhankelijk van welke oplossing (+ of -) men zoekt en de waarde van $b$, kiest men het gepaste algoritme (discriminant of discriminant_stable)"
   ]
  },
  {
   "cell_type": "code",
   "execution_count": 6,
   "metadata": {},
   "outputs": [],
   "source": [
    "import numpy as np\n",
    "\n",
    "def discriminant(a, b, c):\n",
    "    D = np.sqrt(b**2 - 4*a*c)\n",
    "    x1 = (-b + D) / (2*a)\n",
    "    x2 = (-b - D) / (2*a)\n",
    "    return x1, x2\n",
    "\n",
    "def discriminant_stable(a, b, c):\n",
    "    D = np.sqrt(b**2 - 4*a*c)\n",
    "    x1 = -2*c / (b + D)\n",
    "    x2 = (-b - D) / (2*a)\n",
    "    return x1, x2"
   ]
  },
  {
   "cell_type": "code",
   "execution_count": 7,
   "metadata": {},
   "outputs": [
    {
     "name": "stdout",
     "output_type": "stream",
     "text": [
      "Exact solution: (-0.02000008000064001, -4999.9799999199995)\n",
      "Discriminant method in prec. 3: (0.0, -5000.0)\n",
      "Stable discriminant method in prec. 3: (-0.02, -5000.0)\n"
     ]
    }
   ],
   "source": [
    "### TEST ###\n",
    "import numpy as np\n",
    "from decimal import *\n",
    "\n",
    "#Floating-point getallen\n",
    "a = Decimal(1e-3); b = Decimal(5.00); c = Decimal(1e-1)\n",
    "\n",
    "#Zet precisie op 28 en bereken de (zo goed als) exacte waarde\n",
    "getcontext().prec = 28\n",
    "exact = np.array([-0.02000008000064001, -4999.9799999199995])\n",
    "\n",
    "#Zet precisie op 4 en zoek het nulpunt gebruikmakend van de stabielen en onstabiele discriminant methode.\n",
    "#De coefficienten hebben dus invoerfout.\n",
    "getcontext().prec = 3\n",
    "approx = np.array(discriminant(a, b, c))\n",
    "approx_stable = np.array(discriminant_stable(a, b, c))\n",
    "\n",
    "#Bereken de exacte waarde en waardes gegeven door de stabielen en onstabiele discriminant methode\n",
    "print(\"Exact solution:\", tuple(map(float, exact)))\n",
    "print(\"Discriminant method in prec. 3:\", tuple(map(float, approx)))\n",
    "print(\"Stable discriminant method in prec. 3:\", tuple(map(float, approx_stable)))"
   ]
  },
  {
   "cell_type": "markdown",
   "metadata": {
    "collapsed": true,
    "jupyter": {
     "outputs_hidden": true
    }
   },
   "source": [
    "## 4. Stabiliteit van elementaire berekeningen\n",
    "\n",
    "Zoek het snijpunt tussen twee rechten met Cartesische vergelijkingen\n",
    "$$\\begin{cases}1.00 x + 3.50 y = 8.00\\\\ 2.01x + 7.00 y = 16.1\\end{cases}$$\n",
    "in een systeem met precisie 3. Gebruik enkel elementaire berekeningen (namelijk, $+, -, *, /$).\n",
    "Is er een verschil in numerieke stabiliteit als je eerst naar $x$ of eerst naar $y$ oplost?"
   ]
  },
  {
   "cell_type": "code",
   "execution_count": 4,
   "metadata": {},
   "outputs": [],
   "source": [
    "def solve_x_to_y(a1, b1, c1, a2, b2, c2):\n",
    "    a = a2 - a1 * b2 / b1\n",
    "    c = c2 - c1 * b2 / b1\n",
    "    x = c / a\n",
    "    y = (c1 - a1 * x) / b1\n",
    "    return x, y\n",
    "\n",
    "def solve_y_to_x(a1, b1, c1, a2, b2, c2):  \n",
    "    b = b2 - b1 * a2 / a1\n",
    "    c = c2 - c1 * a2 / a1\n",
    "    y = c / b\n",
    "    x = (c1 - b1 * y) / a1\n",
    "    return x, y"
   ]
  },
  {
   "cell_type": "code",
   "execution_count": 5,
   "metadata": {},
   "outputs": [
    {
     "name": "stdout",
     "output_type": "stream",
     "text": [
      "Exact solution: (10.000000000000355, -0.571428571428673)\n",
      "Error x to y:  0.00004278734291402200204093788760\n",
      "Error y to x:  0.2076643721404332569655322541\n"
     ]
    }
   ],
   "source": [
    "### TEST ###\n",
    "import numpy as np\n",
    "from decimal import *\n",
    "\n",
    "#Floating-point getallen\n",
    "a1 = Decimal(1.00); b1 = Decimal(3.50); c1 = Decimal(8.00)\n",
    "a2 = Decimal(2.01); b2 = Decimal(7.00); c2 = Decimal(16.1)\n",
    "\n",
    "#Zet precisie op 28 en bereken de (zo goed als) exacte waarde\n",
    "getcontext().prec = 28\n",
    "exact = np.array([Decimal(10.00000000000035527136788006), Decimal(-0.57142857142867293467653716)])\n",
    "\n",
    "#Zet precisie op 3 en los op van x naar y en van y naar x.\n",
    "#De coefficienten hebben dus invoerfout.\n",
    "getcontext().prec = 3\n",
    "approx_xy = np.array(solve_x_to_y(a1,b1,c1,a2,b2,c2))\n",
    "approx_yx = np.array(solve_y_to_x(a1,b1,c1,a2,b2,c2))\n",
    "\n",
    "#Bereken de relatieve fout tussen de benadering en de exacte waarde voor beide algoritmen\n",
    "getcontext().prec = 28\n",
    "print(\"Exact solution:\", tuple(map(float, exact)))\n",
    "print(\"Error x to y: \", np.linalg.norm(approx_xy - exact) / np.linalg.norm(exact))\n",
    "print(\"Error y to x: \", np.linalg.norm(approx_yx - exact) / np.linalg.norm(exact))"
   ]
  },
  {
   "cell_type": "code",
   "execution_count": null,
   "metadata": {},
   "outputs": [],
   "source": []
  }
 ],
 "metadata": {
  "anaconda-cloud": {},
  "kernelspec": {
   "display_name": "Python 3 (ipykernel)",
   "language": "python",
   "name": "python3"
  },
  "language_info": {
   "codemirror_mode": {
    "name": "ipython",
    "version": 3
   },
   "file_extension": ".py",
   "mimetype": "text/x-python",
   "name": "python",
   "nbconvert_exporter": "python",
   "pygments_lexer": "ipython3",
   "version": "3.12.7"
  },
  "vscode": {
   "interpreter": {
    "hash": "08c1eb5edf5990a2140fef37f2452a52e1f85561a0cc76e440ed4e172465daac"
   }
  }
 },
 "nbformat": 4,
 "nbformat_minor": 4
}
