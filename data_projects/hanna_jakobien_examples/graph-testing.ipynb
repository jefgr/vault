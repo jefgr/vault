{
 "cells": [
  {
   "metadata": {
    "ExecuteTime": {
     "end_time": "2025-04-11T13:49:29.709132Z",
     "start_time": "2025-04-11T13:49:29.116244Z"
    }
   },
   "cell_type": "code",
   "source": [
    "import networkx as nx\n",
    "import matplotlib.pyplot as plt\n"
   ],
   "id": "cedb7739c9428589",
   "outputs": [],
   "execution_count": 2
  },
  {
   "metadata": {
    "ExecuteTime": {
     "end_time": "2025-04-11T13:52:41.247111Z",
     "start_time": "2025-04-11T13:52:41.242126Z"
    }
   },
   "cell_type": "code",
   "source": [
    "G = nx.Graph()\n",
    "\n",
    "# List of adjacency lists from the provided structure\n",
    "adjacency = [\n",
    "    [5, 4, 3, 2],             # Node 0\n",
    "    [7, 4, 2],                # Node 1\n",
    "    [6, 5, 4, 1, 0],          # Node 2\n",
    "    [7, 0],                   # Node 3\n",
    "    [10, 2, 1, 0],            # Node 4\n",
    "    [11, 7, 2, 0],            # Node 5\n",
    "    [11, 7, 2],               # Node 6\n",
    "    [6, 5, 3, 1],             # Node 7\n",
    "    [15, 14, 11, 10, 9],      # Node 8\n",
    "    [14, 12, 8],              # Node 9\n",
    "    [14, 13, 12, 11, 8, 4],   # Node 10\n",
    "    [13, 10, 8, 6, 5],        # Node 11\n",
    "    [10, 9],                  # Node 12\n",
    "    [11, 10],                 # Node 13\n",
    "    [10, 9, 8],               # Node 14\n",
    "    [8]                       # Node 15\n",
    "]\n",
    "\n",
    "# Add edges\n",
    "for node, neighbors in enumerate(adjacency):\n",
    "    for neighbor in neighbors:\n",
    "        G.add_edge(node, neighbor, weight=1)\n"
   ],
   "id": "aa53ca1b0ff9d742",
   "outputs": [],
   "execution_count": 3
  },
  {
   "metadata": {
    "ExecuteTime": {
     "end_time": "2025-04-11T13:53:46.501713Z",
     "start_time": "2025-04-11T13:53:46.470247Z"
    }
   },
   "cell_type": "code",
   "source": [
    "# Draw the graph\n",
    "pos = nx.spring_layout(G)  # Positions for all nodes\n",
    "nx.draw(G, pos, with_labels=True, node_color=\"skyblue\", edge_color=\"gray\")\n",
    "nx.draw_networkx_edge_labels(G, pos, edge_labels={(u, v): d['weight'] for u, v, d in G.edges(data=True)})\n",
    "\n",
    "plt.title(\"Graph from Lisp-style Input\")\n",
    "plt.show()"
   ],
   "id": "9f30da50750f505b",
   "outputs": [
    {
     "ename": "ModuleNotFoundError",
     "evalue": "No module named 'matplotlib'",
     "output_type": "error",
     "traceback": [
      "\u001B[31m---------------------------------------------------------------------------\u001B[39m",
      "\u001B[31mModuleNotFoundError\u001B[39m                       Traceback (most recent call last)",
      "\u001B[36mCell\u001B[39m\u001B[36m \u001B[39m\u001B[32mIn[5]\u001B[39m\u001B[32m, line 3\u001B[39m\n\u001B[32m      1\u001B[39m \u001B[38;5;66;03m# Draw the graph\u001B[39;00m\n\u001B[32m      2\u001B[39m pos = nx.spring_layout(G)  \u001B[38;5;66;03m# Positions for all nodes\u001B[39;00m\n\u001B[32m----> \u001B[39m\u001B[32m3\u001B[39m \u001B[43mnx\u001B[49m\u001B[43m.\u001B[49m\u001B[43mdraw\u001B[49m\u001B[43m(\u001B[49m\u001B[43mG\u001B[49m\u001B[43m,\u001B[49m\u001B[43m \u001B[49m\u001B[43mpos\u001B[49m\u001B[43m,\u001B[49m\u001B[43m \u001B[49m\u001B[43mwith_labels\u001B[49m\u001B[43m=\u001B[49m\u001B[38;5;28;43;01mTrue\u001B[39;49;00m\u001B[43m,\u001B[49m\u001B[43m \u001B[49m\u001B[43mnode_color\u001B[49m\u001B[43m=\u001B[49m\u001B[33;43m\"\u001B[39;49m\u001B[33;43mskyblue\u001B[39;49m\u001B[33;43m\"\u001B[39;49m\u001B[43m,\u001B[49m\u001B[43m \u001B[49m\u001B[43medge_color\u001B[49m\u001B[43m=\u001B[49m\u001B[33;43m\"\u001B[39;49m\u001B[33;43mgray\u001B[39;49m\u001B[33;43m\"\u001B[39;49m\u001B[43m)\u001B[49m\n\u001B[32m      4\u001B[39m nx.draw_networkx_edge_labels(G, pos, edge_labels={(u, v): d[\u001B[33m'\u001B[39m\u001B[33mweight\u001B[39m\u001B[33m'\u001B[39m] \u001B[38;5;28;01mfor\u001B[39;00m u, v, d \u001B[38;5;129;01min\u001B[39;00m G.edges(data=\u001B[38;5;28;01mTrue\u001B[39;00m)})\n\u001B[32m      6\u001B[39m plt.title(\u001B[33m\"\u001B[39m\u001B[33mGraph from Lisp-style Input\u001B[39m\u001B[33m\"\u001B[39m)\n",
      "\u001B[36mFile \u001B[39m\u001B[32m~\\Documents\\IRCS\\vaults\\data_projects\\hanna_jakobien_examples\\.venv\\Lib\\site-packages\\networkx\\drawing\\nx_pylab.py:110\u001B[39m, in \u001B[36mdraw\u001B[39m\u001B[34m(G, pos, ax, **kwds)\u001B[39m\n\u001B[32m     54\u001B[39m \u001B[38;5;28;01mdef\u001B[39;00m\u001B[38;5;250m \u001B[39m\u001B[34mdraw\u001B[39m(G, pos=\u001B[38;5;28;01mNone\u001B[39;00m, ax=\u001B[38;5;28;01mNone\u001B[39;00m, **kwds):\n\u001B[32m     55\u001B[39m \u001B[38;5;250m    \u001B[39m\u001B[33;03m\"\"\"Draw the graph G with Matplotlib.\u001B[39;00m\n\u001B[32m     56\u001B[39m \n\u001B[32m     57\u001B[39m \u001B[33;03m    Draw the graph as a simple representation with no node\u001B[39;00m\n\u001B[32m   (...)\u001B[39m\u001B[32m    108\u001B[39m \u001B[33;03m    https://networkx.org/documentation/latest/auto_examples/index.html\u001B[39;00m\n\u001B[32m    109\u001B[39m \u001B[33;03m    \"\"\"\u001B[39;00m\n\u001B[32m--> \u001B[39m\u001B[32m110\u001B[39m     \u001B[38;5;28;01mimport\u001B[39;00m\u001B[38;5;250m \u001B[39m\u001B[34;01mmatplotlib\u001B[39;00m\u001B[34;01m.\u001B[39;00m\u001B[34;01mpyplot\u001B[39;00m\u001B[38;5;250m \u001B[39m\u001B[38;5;28;01mas\u001B[39;00m\u001B[38;5;250m \u001B[39m\u001B[34;01mplt\u001B[39;00m\n\u001B[32m    112\u001B[39m     \u001B[38;5;28;01mif\u001B[39;00m ax \u001B[38;5;129;01mis\u001B[39;00m \u001B[38;5;28;01mNone\u001B[39;00m:\n\u001B[32m    113\u001B[39m         cf = plt.gcf()\n",
      "\u001B[31mModuleNotFoundError\u001B[39m: No module named 'matplotlib'"
     ]
    }
   ],
   "execution_count": 5
  },
  {
   "metadata": {
    "ExecuteTime": {
     "end_time": "2025-04-11T13:54:08.688055Z",
     "start_time": "2025-04-11T13:54:08.681916Z"
    }
   },
   "cell_type": "code",
   "source": "nx.community.modularity(G, [{0}, {1,4,7,10,13},{2,5,8,11,14},{3,6,9,12,15}])",
   "id": "81c8e1150066f8f9",
   "outputs": [
    {
     "data": {
      "text/plain": [
       "0.008290816326530621"
      ]
     },
     "execution_count": 6,
     "metadata": {},
     "output_type": "execute_result"
    }
   ],
   "execution_count": 6
  },
  {
   "metadata": {},
   "cell_type": "code",
   "outputs": [],
   "execution_count": null,
   "source": "",
   "id": "b06656b214570167"
  }
 ],
 "metadata": {
  "kernelspec": {
   "name": "python3",
   "language": "python",
   "display_name": "Python 3 (ipykernel)"
  }
 },
 "nbformat": 5,
 "nbformat_minor": 9
}
