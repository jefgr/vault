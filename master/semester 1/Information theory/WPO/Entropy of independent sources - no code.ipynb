{
 "cells": [
  {
   "attachments": {},
   "cell_type": "markdown",
   "metadata": {},
   "source": [
    "# Entropy of independent sources\n"
   ]
  },
  {
   "attachments": {},
   "cell_type": "markdown",
   "metadata": {},
   "source": [
    "## Entropy of binary encoding: the binary entropy function\n",
    "\n",
    "The binary entropy function $H_{b}(p)$ is defined as the entropy of a Bernoulli process. The Bernoulli process is modeled as a random variable X that can take only $n=2$ values: 0 and 1 with the probability of success $P[X=1]=p$ and probability of failure of $P[X=0]=1-p$.  \n",
    "\n",
    "Proof analytically that the entropy equals $$H(X)=H_{b}(p) = \\frac{1}{\\ln2}\\left(p\\ln\\frac{1-p}{p}-\\ln(1-p)\\right)$$\n",
    "\n",
    "Plot the function and interprete the points for $p=0$, $p=0.25$, $p=0.5$, and $p=1$. Note that the function evaluation for $p=0$ and $p=1$ requires special attention!"
   ]
  },
  {
   "cell_type": "code",
   "execution_count": 33,
   "metadata": {},
   "outputs": [
    {
     "name": "stdout",
     "output_type": "stream",
     "text": [
      "[0.    0.001 0.002 ... 0.998 0.999 1.   ]\n"
     ]
    },
    {
     "data": {
      "text/plain": [
       "[<matplotlib.lines.Line2D at 0x236ed800f50>]"
      ]
     },
     "execution_count": 33,
     "metadata": {},
     "output_type": "execute_result"
    },
    {
     "data": {
      "image/png": "[encoded data removed]",
      "text/plain": [
       "<Figure size 640x480 with 1 Axes>"
      ]
     },
     "metadata": {},
     "output_type": "display_data"
    }
   ],
   "source": [
    "import matplotlib.pyplot as plt\n",
    "import numpy as np\n",
    "from math import log\n",
    "\n",
    "def H(p):\n",
    "    return (1 / log(2)) * ( p * log(( 1-p ) / p) - log( 1 - p ))\n",
    "\n",
    "xpoints = np.linspace(0, 1, 1001)\n",
    "print(xpoints)\n",
    "ypoints = [0] + [H(x) for x in xpoints[1: 1000]] + [0]\n",
    "\n",
    "plt.plot(xpoints, ypoints)"
   ]
  },
  {
   "attachments": {},
   "cell_type": "markdown",
   "metadata": {},
   "source": [
    "\n",
    "##  Entropy of acadenic example\n",
    "\n",
    "Consider a discrete source $X$ with an alphabet of length $n=4$ for which the probabilities for the occurrences is given by $p(x_i)=[0.4, 0.3, 0.2]$ for $i=1,\\ldots,3$. Compute the entropy of the source (expressed in bit/symbol) \n",
    "$$ H(X) = -\\sum_{i=1}^n p(x_i) \\log_2 (p(x_i)) $$\n",
    "and the maximal entropy $$ H_{max} = \\log_2 (n)$$ which is obtained for uniform distributed sources with $p(x_i) = 1/n$.\n",
    "\n",
    "Since $p_i$ represents a probability, we have to ensure that the sum of all $p_i$ s is equal to one $$\\sum_{i=1}^n p(x_i) = 1.$$"
   ]
  },
  {
   "cell_type": "code",
   "execution_count": 34,
   "metadata": {},
   "outputs": [
    {
     "name": "stdout",
     "output_type": "stream",
     "text": [
      "H(X) = 1.8464393446710154\n",
      "Hmax = 2.0\n"
     ]
    }
   ],
   "source": [
    "from math import log2\n",
    "px = [0.1, 0.4, 0.3, 0.2] # i = 0 must be 0.1 because 0.4 + 0.3 + 0.2 = 0.9\n",
    "\n",
    "Hx = - sum(pxi * log2(pxi) for pxi in px)\n",
    "Hmax = log2(4)\n",
    "\n",
    "print (f\"H(X) = {Hx}\")\n",
    "print(f\"Hmax = {Hmax}\")\n"
   ]
  },
  {
   "attachments": {},
   "cell_type": "markdown",
   "metadata": {},
   "source": [
    "### Information rate and channel capacity\n",
    "\n",
    "The entropy measures the amount of information generated by a source. The information rate measures the amount of information generated **per time unit**.\n",
    "\n",
    "The information rate \n",
    "can be written for a binary coder as \n",
    "$$ R(X) = \\frac{1}{<N>} H(X) $$\n",
    "with $<N>$ the average length\n",
    "$$ <N> = \\sum_{i=1}^n p(x_i) N(x_i).$$"
   ]
  },
  {
   "attachments": {},
   "cell_type": "markdown",
   "metadata": {},
   "source": [
    "## Entropy using letter frequency in English\n",
    "\n",
    "Consider that the different letters/symbols within English are independent and that each letter from 'a' to 'z' + 'space' represent a symbol with $p_i('a', \\ldots, 'z')$ =\n",
    "[0.065, 0.012, 0.022, 0.035, 0.104, 0.020, 0.016, 0.049, 0.056, 0.001, 0.005, 0.033, 0.020, 0.056, 0.060, 0.014, 0.001, 0.050, 0.052, 0.073, 0.022, 0.008, 0.017, 0.001, 0.015, 0.001] and $p_i('space')=0.192$.\n",
    "\n",
    "Determine the self-information $$ S_i = - \\log_2(p_i) $$ of each character and the entropy of an English text (assuming that all charaters are independent)."
   ]
  },
  {
   "attachments": {},
   "cell_type": "markdown",
   "metadata": {},
   "source": [
    "Determine the entropy of the English source $$ H_X = \\sum_{i=1}^n p_i S_i. $$"
   ]
  },
  {
   "cell_type": "code",
   "execution_count": 35,
   "metadata": {},
   "outputs": [
    {
     "name": "stdout",
     "output_type": "stream",
     "text": [
      "Hx = 4.071636595816461\n"
     ]
    }
   ],
   "source": [
    "# p from above with the space added to the front\n",
    "p = [0.192, 0.065, 0.012, 0.022, 0.035, 0.104, 0.020, 0.016, 0.049, 0.056, 0.001, 0.005, 0.033, 0.020, 0.056, 0.060, 0.014, 0.001, 0.050, 0.052, 0.073, 0.022, 0.008, 0.017, 0.001, 0.015, 0.001]\n",
    "def S(i):\n",
    "    return -log2(p[i])\n",
    "\n",
    "Hx = sum((p * S(i)) for i, p in enumerate(p))\n",
    "print(f\"Hx = {Hx}\")"
   ]
  },
  {
   "attachments": {},
   "cell_type": "markdown",
   "metadata": {},
   "source": [
    "Determine the maximal entropy (for uniformly distributed symbols)."
   ]
  },
  {
   "cell_type": "code",
   "execution_count": 36,
   "metadata": {},
   "outputs": [
    {
     "name": "stdout",
     "output_type": "stream",
     "text": [
      "Hmax = 4.754887502163468\n"
     ]
    }
   ],
   "source": [
    "Hmax = log2(27)\n",
    "print(f\"Hmax = {Hmax}\")"
   ]
  },
  {
   "attachments": {},
   "cell_type": "markdown",
   "metadata": {},
   "source": [
    "Compute the the efficiency."
   ]
  },
  {
   "cell_type": "code",
   "execution_count": 37,
   "metadata": {},
   "outputs": [
    {
     "name": "stdout",
     "output_type": "stream",
     "text": [
      "efficiency = 0.8563055580103359\n"
     ]
    }
   ],
   "source": [
    "efficiency = Hx / Hmax\n",
    "print(f\"efficiency = {efficiency}\")"
   ]
  },
  {
   "attachments": {},
   "cell_type": "markdown",
   "metadata": {},
   "source": [
    "# Entropy of morse code\n",
    "\n",
    "Consider the above probabilities for the English characters and assume that the relative lenght of a morse code for characters from 'a' to 'z' is given as [8, 12, 14, 10, 4, 12, 12, 10, 6, 16, 12, 12, 10, 8, 14, 14, 16, 10, 8, 6, 10, 12, 12, 14, 16, 14] and equals 4 for a space. This is  expressed in time units (a single dot equals 2 time units). Remark that the entropy of the source remains identical to the previous question, namely the entropy of the letter frequency in English."
   ]
  },
  {
   "attachments": {},
   "cell_type": "markdown",
   "metadata": {},
   "source": [
    "Determine the average duration of a symbol and the the information rate."
   ]
  },
  {
   "cell_type": "code",
   "execution_count": 38,
   "metadata": {},
   "outputs": [
    {
     "name": "stdout",
     "output_type": "stream",
     "text": [
      "<N> = 8.078\n",
      "Rx = 0.5040401826957739\n"
     ]
    }
   ],
   "source": [
    "# morse lengths with space added in the front\n",
    "N = [4, 8, 12, 14, 10, 4, 12, 12, 10, 6, 16, 12, 12, 10, 8, 14, 14, 16, 10, 8, 6, 10, 12, 12, 14, 16, 14]\n",
    "\n",
    "avgN = sum(px * nx for (px, nx) in zip(p, N))\n",
    "print(f\"<N> = {avgN}\")\n",
    "Rx = Hx / avgN\n",
    "print(f\"Rx = {Rx}\")"
   ]
  },
  {
   "attachments": {},
   "cell_type": "markdown",
   "metadata": {},
   "source": [
    "Determine the maximal entropy $H_{max}$ assuming uniformly distributed symbols."
   ]
  },
  {
   "cell_type": "code",
   "execution_count": 39,
   "metadata": {},
   "outputs": [
    {
     "name": "stdout",
     "output_type": "stream",
     "text": [
      "Hmax = 4.754887502163468\n"
     ]
    }
   ],
   "source": [
    "Hmax = log2(27)\n",
    "print(f\"Hmax = {Hmax}\")"
   ]
  },
  {
   "attachments": {},
   "cell_type": "markdown",
   "metadata": {},
   "source": [
    "# Entropy of Calligraphy in English \n",
    "\n",
    "What is the amount of information per symbol when using the \"calligraphical\" information of an English text (i.e. compare \"Amount of information is normal font compared to capital letters\" to \"AMOUNT OF INFORMATION IS NORMAL FONT COMPARED TO CAPITAL LETTERS\") Therefore consider 5 groups of symbols\n",
    "1. \"aceimnorsuvwxz\": neither sticks nor tails,\n",
    "2. \"bdhklt\": only sticks,\n",
    "3. \"gjpqy\": only tails,\n",
    "4. \"f\": both sticks and tails, and\n",
    "5. \" \": a space."
   ]
  },
  {
   "attachments": {},
   "cell_type": "markdown",
   "metadata": {},
   "source": [
    "Compute the entropy of Calligraphy in English"
   ]
  },
  {
   "cell_type": "code",
   "execution_count": 40,
   "metadata": {},
   "outputs": [
    {
     "name": "stdout",
     "output_type": "stream",
     "text": [
      "Hx = 1.7310038188735146\n"
     ]
    }
   ],
   "source": [
    "letters = [' ','a', 'b', 'c', 'd', 'e', 'f', 'g', 'h', 'i', 'j', 'k', 'l', 'm',\n",
    " 'n', 'o', 'p', 'q', 'r', 's', 't', 'u', 'v', 'w', 'x', 'y', 'z']\n",
    "\n",
    "dictionary = {letter: px for letter, px in zip(letters, p)}\n",
    "probs = [0, 0, 0, 0, 0]\n",
    "\n",
    "for letter, px in dictionary.items():\n",
    "    if letter in \"aceimnorsuvwxz\":\n",
    "        probs[0] += px\n",
    "    elif letter in \"bdhklt\":\n",
    "        probs[1] += px\n",
    "    elif letter in \"gjpqy\":\n",
    "        probs[2] += px\n",
    "    elif letter in \"f\":\n",
    "        probs[3] += px\n",
    "    else:\n",
    "        probs[4] += px\n",
    "\n",
    "def S2(i):\n",
    "    return -log2(probs[i])\n",
    "\n",
    "Hx = sum((px * S2(i)) for i, px in enumerate(probs))\n",
    "\n",
    "print(f\"Hx = {Hx}\")"
   ]
  }
 ],
 "metadata": {
  "kernelspec": {
   "display_name": ".venv (3.13.9)",
   "language": "python",
   "name": "python3"
  },
  "language_info": {
   "codemirror_mode": {
    "name": "ipython",
    "version": 3
   },
   "file_extension": ".py",
   "mimetype": "text/x-python",
   "name": "python",
   "nbconvert_exporter": "python",
   "pygments_lexer": "ipython3",
   "version": "3.13.9"
  }
 },
 "nbformat": 4,
 "nbformat_minor": 2
}
