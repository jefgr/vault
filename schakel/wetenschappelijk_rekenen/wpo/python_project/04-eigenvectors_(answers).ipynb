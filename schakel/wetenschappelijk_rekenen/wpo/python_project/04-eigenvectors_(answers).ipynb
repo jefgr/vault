{
 "cells": [
  {
   "cell_type": "markdown",
   "metadata": {},
   "source": [
    "# Sessie 4 - QR-ontbinding, eigenwaarden en -vectoren"
   ]
  },
  {
   "cell_type": "markdown",
   "metadata": {},
   "source": [
    "Voer de onderstaande code uit."
   ]
  },
  {
   "cell_type": "code",
   "execution_count": null,
   "metadata": {},
   "outputs": [],
   "source": [
    "%matplotlib inline\n",
    "\n",
    "import imageio.v3 as imageio\n",
    "import matplotlib.pyplot as plt\n",
    "import numpy as np\n",
    "import os"
   ]
  },
  {
   "cell_type": "markdown",
   "metadata": {},
   "source": [
    "## Image Compression\n",
    "\n",
    "Image compression is een methode om een figuur op een meer compacte manier voor te stellen om zo irrelevante informatie uit de figuur te verwijderen.\n",
    "\n",
    "Aangezien de singuliere waarden ontbinding (SWO) van een arbitraire matrix ($A = U \\Sigma V'$) ons orthogonale (dus niet-gecorreleerde) stukken informatie ($U$ en $V'$) met bijhorende impactfactoren ($\\Sigma$) teruggeeft, kunnen we de belangrijkste delen informatie behouden en de rest verwijderen door de kleinste impactfactoren op $0$ te zetten.\n",
    "\n",
    "Dit heet de lage-rang approximatie van een figuur."
   ]
  },
  {
   "cell_type": "markdown",
   "metadata": {},
   "source": [
    "## 1. QR-iteratie\n",
    "\n",
    "Implementeer de QR-iteratie methode."
   ]
  },
  {
   "cell_type": "code",
   "execution_count": null,
   "metadata": {},
   "outputs": [],
   "source": [
    "def qr_decomposition(A):\n",
    "    \"\"\"\n",
    "    Compute the QR-decompositie of the matrix A.\n",
    "    Output: Q, R\n",
    "    \"\"\"\n",
    "    return np.linalg.qr(A)\n",
    "    \n",
    "def qr_iteration(A, n):\n",
    "    \"\"\"\n",
    "    Run QR-iteratie on the matrix A for n iterations.\n",
    "    Output: Q, R\n",
    "    \"\"\"\n",
    "    Q = np.identity(len(A))\n",
    "    for _ in range(n):\n",
    "        Q0, R = qr_decomposition(A)\n",
    "        A = np.dot(R,Q0) # A is gradually replaced by the upper triangular, giving the eigenvalues on the diagonal\n",
    "        Q = np.dot(Q,Q0) # will contain the eigenvectors\n",
    "    return Q, A"
   ]
  },
  {
   "cell_type": "code",
   "execution_count": null,
   "metadata": {},
   "outputs": [],
   "source": [
    "### TEST ###\n",
    "\n",
    "# Compose symmetric matrix A'A\n",
    "A = np.asmatrix([[1, 2, 3],[4, 5, 6],[7, 8, 7]])\n",
    "A = np.dot(A.transpose(),A)\n",
    "\n",
    "# Perform QR-iteration\n",
    "Q, R = qr_iteration(A, 1000)\n",
    "print(\"A'A = \"); print(A)\n",
    "print(\"QRQ' = \"); print(np.dot(np.dot(Q, R), Q.transpose()))\n",
    "\n",
    "# R moet een bovendriehoeksmatrix zijn en de diagonaal van R moet de eigenwaardes van de matrix A bevatten\n",
    "print(\"R = \"); print(R)\n",
    "print(\"Eigenwaardes van R = \"); print(np.linalg.eig(A)[0])"
   ]
  },
  {
   "cell_type": "markdown",
   "metadata": {},
   "source": [
    "## 2. Singuliere waarden ontbinding\n",
    "\n",
    "Met behulp van QR-iteratie kan men de eigenwaarden en -vectoren berekenen van een <b>vierkante symmetrische</b> matrix $M$.\n",
    "$$M = QRQ^T \\Leftrightarrow MQ = QR$$\n",
    "met $Q$ een unitaire matrix ($Q^T = Q^{-1}$) en $R$ een diagonaalmatrix met positieve elementen.<br>\n",
    "De kolommen van $Q$ zijn de eigenvectoren, terwijl de diagonaalelementen van $R$ de bijhorende eigenwaarden geven.\n",
    "\n",
    "Je kan met deze methode ook een singuliere waarden ontbinding (SWO) berekenen.<br>\n",
    "Namelijk, $A = U \\Sigma V^T$ met $U, V$ unitaire matrices en $\\Sigma$ een diagonaal matrix met positieve elementen.\n",
    "\n",
    "Implementeer een functie die de SWO berekent voor een matrix $A$ .\n",
    "\n",
    "(Hint: Gegeven de matrix $A = U\\Sigma V^T$, bereken $A^TA$. Wat kom je uit?)\n",
    "\n",
    "<b>ANSWER:</b>\n",
    "\n",
    "$$\\begin{split}\n",
    "A = U\\Sigma V^T \\Leftrightarrow A^TA &= V \\Sigma^T U^T U \\Sigma V^T\\\\\n",
    "                                   &= V \\Sigma U^{-1} U \\Sigma V^T \\quad \\text{[$U$ is unitair, $\\Sigma$ is diagonaal]}\\\\\n",
    "                                   &= V \\Sigma^2 V^T\n",
    "\\end{split}$$\n",
    "Dit is exact wat we bekomen als we QR-iteratie toepassen op $A^TA$.\n",
    "\n",
    "Dus, als we $A^TA = QRQ^T$ berekenen, hebben we $A = U\\Sigma V^T$, waarbij:\n",
    "* $V = Q$\n",
    "* $\\Sigma = \\sqrt{R}$\n",
    "* $U = AV\\Sigma^{-1}$ $\\ \\ $ [$V$ is unitair, $\\Sigma$ is diagonal with positive elements]"
   ]
  },
  {
   "cell_type": "code",
   "execution_count": null,
   "metadata": {},
   "outputs": [],
   "source": [
    "def qr_svd(A):\n",
    "    \"\"\"\n",
    "    Compute the Singular Value Decomposition (A = USV') using QR-iteration.\n",
    "    Output: U, S, V\n",
    "    \"\"\"\n",
    "    A2 = np.dot(A.transpose(), A)\n",
    "    Q, R = qr_iteration(A2, 1000)\n",
    "    print(R)\n",
    "    \n",
    "    V = Q\n",
    "    S = np.diag(np.sqrt(np.diag(abs(R))))\n",
    "    U = np.dot(np.dot(A, V), np.linalg.inv(S))\n",
    "    return (U, S, V)"
   ]
  },
  {
   "cell_type": "code",
   "execution_count": null,
   "metadata": {},
   "outputs": [],
   "source": [
    "### TEST ###\n",
    "\n",
    "# Compose arbitrary matrix A\n",
    "A = 10*np.asmatrix([[1, 2, 3],[4, 5, 6],[7, 8, 7]])\n",
    "\n",
    "# Perform SVD\n",
    "U, S, V = qr_svd(A)\n",
    "print(\"A = \"); print(A)\n",
    "print(\"USV' = \", ); print(np.dot(np.dot(U, S), V.transpose()))\n",
    "print(\"-----\")\n",
    "print(\"U = \", ); print(U) # unitaire matrix\n",
    "print(\"S = \", ); print(S) # diagonaal matrix\n",
    "print(\"V = \", ); print(V) # unitaire matrix"
   ]
  },
  {
   "cell_type": "markdown",
   "metadata": {},
   "source": [
    "## 3. Lage-Rang Approximatie\n",
    "\n",
    "Lage-rang approximatie is een methode om een matrix te benaderen door de rang te verlagen.\n",
    "Aangezien de rang van een matrix gelijk is aan het aantal singuliere waarden die niet nul zijn, kunnen we onze qr_svd methode gebruiken om de SWO van de matrix te berekenen en enkel $k$ singuliere waarden (en vectoren) over te houden. Dit heet een k-rang approximatie van een matrix.\n",
    "\n",
    "We kunnen dit gebruiken om bijvoorbeeld een figuur te comprimeren. Gegeven dat de $k$ hoogste singuliere waarden (met hun eigenvectoren) grotendeels de figuur bepalen, voer een k-rang approximatie uit op de figuur 'image.jpg' zodat zo weinig mogelijk informatie verloren gaat.\n",
    "\n",
    "(Opmerking: Vergeet niet dat de eigen waarden in de matrix $R$ <b>niet</b> geordend zijn op grootte.)"
   ]
  },
  {
   "cell_type": "code",
   "execution_count": null,
   "metadata": {},
   "outputs": [],
   "source": [
    "def load_image(input_file):\n",
    "    \"\"\"\n",
    "    Load the image from the given input file as a grayscale matrix.\n",
    "    \"\"\"\n",
    "    return np.asmatrix(imageio.imread(input_file, mode='F'))  # Use mode='F' for floating-point grayscale\n",
    "\n",
    "def remove_smallest_values(M, k):\n",
    "    \"\"\"\n",
    "    Set the smallest elements to zero on the diagonal of M.\n",
    "    Only keep the k largest values.\n",
    "    \"\"\"\n",
    "    M = np.diag(M)\n",
    "    values = list(enumerate(M))\n",
    "    values.sort(key=lambda x: x[1], reverse=True)\n",
    "    values[k:] = list(map(lambda x: (x[0], 0), values[k:]))\n",
    "    values.sort(key=lambda x: x[0])\n",
    "    return np.diag(list(zip(*values))[1])\n",
    "\n",
    "def compress_image(M, k):\n",
    "    \"\"\"\n",
    "    Computes the k-rank approximation of matrix M.\n",
    "    \"\"\"\n",
    "    U, S, V = qr_svd(M)\n",
    "    S = remove_smallest_values(S, k)\n",
    "    return np.dot(np.dot(U, S), V.transpose())"
   ]
  },
  {
   "cell_type": "code",
   "execution_count": null,
   "metadata": {},
   "outputs": [],
   "source": [
    "### TEST ###\n",
    "\n",
    "# Parameters\n",
    "k = 5 #Choose a rank for your k-rank approximation\n",
    "input_file = 'image.jpg'\n",
    "output_file = 'compressed_image.jpg'\n",
    "\n",
    "# Compress the image2\n",
    "img = load_image(input_file)\n",
    "compressed_img = compress_image(img, k)\n",
    "\n",
    "# Plot the image\n",
    "plt.figure(figsize=(20,10))\n",
    "plt.subplot(121)\n",
    "plt.imshow(img, cmap=plt.cm.gray)\n",
    "plt.title('Original image')\n",
    "plt.axis('off')\n",
    "plt.subplot(122)\n",
    "plt.imshow(compressed_img, cmap=plt.cm.gray)\n",
    "plt.title(str(k) + '-Rank Approximation')\n",
    "plt.axis('off')\n",
    "plt.show()"
   ]
  },
  {
   "cell_type": "code",
   "execution_count": null,
   "metadata": {},
   "outputs": [],
   "source": []
  },
  {
   "cell_type": "code",
   "execution_count": null,
   "metadata": {},
   "outputs": [],
   "source": []
  },
  {
   "cell_type": "code",
   "execution_count": null,
   "metadata": {},
   "outputs": [],
   "source": []
  }
 ],
 "metadata": {
  "kernelspec": {
   "display_name": "courses",
   "language": "python",
   "name": "python3"
  },
  "language_info": {
   "codemirror_mode": {
    "name": "ipython",
    "version": 3
   },
   "file_extension": ".py",
   "mimetype": "text/x-python",
   "name": "python",
   "nbconvert_exporter": "python",
   "pygments_lexer": "ipython3",
   "version": "3.12.9"
  }
 },
 "nbformat": 4,
 "nbformat_minor": 1
}
