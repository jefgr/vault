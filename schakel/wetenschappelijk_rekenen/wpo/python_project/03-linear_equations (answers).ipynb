{
 "cells": [
  {
   "cell_type": "markdown",
   "metadata": {},
   "source": [
    "# Sessie 3 - Stelsels van lineaire vergelijkingen"
   ]
  },
  {
   "cell_type": "markdown",
   "metadata": {},
   "source": [
    "Voer de onderstaande code uit."
   ]
  },
  {
   "cell_type": "code",
   "execution_count": 1,
   "metadata": {},
   "outputs": [],
   "source": [
    "%matplotlib inline\n",
    "\n",
    "import matplotlib.pyplot as plt\n",
    "import numpy as np"
   ]
  },
  {
   "cell_type": "markdown",
   "metadata": {},
   "source": [
    "## Protein folding en PSICOV\n",
    "\n",
    "De Protein Data Bank ([PDB](http://www.rcsb.org/pdb/home/home.do)) is een database die allerlei informatie bevat over proteinen. Deze database bevat o.a. de 3D structuur van proteinen. Om deze structuur te bepalen (zie [protein folding](https://en.wikipedia.org/wiki/Protein_folding)), hebben we geautomatiseerde methodes nodig.\n",
    "\n",
    "We kunnen bijvoorbeeld kijken naar hoe proteinen evolueren. Het is geweten dat de 3D proteinstructuur bij mutatie meestal wordt behouden, en dus de amino-zuren (i.e., de deeltjes die een protein opmaken) gebonden moeten blijven. Dit wil zeggen dat de aminozuren die in contact zijn met elkaar moeten co-muteren om de chemische bindingen te behouden. Met andere woorden, als we naar <i>verschillende</i> sequenties van <i>hetzelfde</i> protein kijken, kunnen we relaties vinden tussen aminozuren in termen van co-mutaties.\n",
    "\n",
    "Een statistische methode dat gebruik maakt van dit idee, heet [PSICOV](http://www.ncbi.nlm.nih.gov/pubmed/22101153) en werkt als volgt:\n",
    "1. Stel een covariantie matrix van amino-paren op uit protein data.\n",
    "2. Inverteer deze matrix om correlaties te bekomen tussen amino-paren\n",
    "3. Bereken voor ieder paar wat de waarschijnlijkheid is dat deze zuren in contact zijn.\n",
    "\n",
    "De code voor stap 1 en 3 is gegeven, maar het cruciale gedeelte van deze methode is stap 2, namelijk het inverteren van de covariantie matrix, daar we tot nu toe niet echt stabiele of efficiente methodes hebben gezien. Stabiliteit is nodig, aangezien we zullen werken met een $420 \\times 420$ matrix voor een kleine sequentie van aminozuren (in de praktijk is dit gemiddeld een $3150 \\times 3150$ matrix)."
   ]
  },
  {
   "cell_type": "markdown",
   "metadata": {},
   "source": [
    "<b>ANSWER:</b>\n",
    "\n",
    "* Constructie van het algoritme:\n",
    "$$\n",
    "a_{ij} = \\sum\\limits^{min(i,j)}_{m=1} l_{im}l_{mj}\n",
    "\\Rightarrow \\begin{cases}\n",
    "                a_{ii} = \\sum\\limits^{i-1}_{m = 1} l^2_{ij} + l^2_{ii}\\\\\n",
    "                a_{ij} = \\sum\\limits^{j-1}_{m=1} l_{im}l_{jm} + l_{ij}l_{jj} \\text{ als }i > j\n",
    "            \\end{cases} \n",
    "\\Rightarrow \\begin{cases}\n",
    "                l_{ii} = \\sqrt{a_{ii} - \\sum\\limits^{i-1}_{m = 1} l^2_{ij}} \\\\ \n",
    "                l_{ij} = \\frac{1}{l_{jj}}(a_{ij} - \\sum\\limits^{j-1}_{m=1} l_{im}l_{jm}) \\text{ als }i > j\n",
    "            \\end{cases}\n",
    "$$"
   ]
  },
  {
   "cell_type": "markdown",
   "metadata": {},
   "source": [
    "Extra uitleg:"
   ]
  },
  {
   "cell_type": "markdown",
   "metadata": {},
   "source": [
    "\\begin{equation*}\n",
    "A = \n",
    "\\begin{pmatrix}\n",
    "   a_{11} & a_{21} & a_{31}\\\\\n",
    "   a_{21} & a_{22} & a_{32}\\\\\n",
    "   a_{31} & a_{32} & a_{33}\\\\\n",
    "\\end{pmatrix}\n",
    "= \\\\\n",
    "\\begin{pmatrix}\n",
    "   l_{11} & 0 & 0 \\\\\n",
    "   l_{21} & l_{22} & 0 \\\\\n",
    "   l_{31} & l_{32} & l_{33}\\\\\n",
    "\\end{pmatrix}\n",
    "\\begin{pmatrix}\n",
    "   l_{11} & l_{21} & l_{31} \\\\\n",
    "   0 & l_{22} & l_{32} \\\\\n",
    "   0 & 0 & l_{33}\n",
    "\\end{pmatrix} \\equiv LL^T\\\\\n",
    "= \\\\\n",
    "\\begin{pmatrix}\n",
    "   l_{11}^2     & l_{21}l_{11} & l_{31}l_{11} \\\\\n",
    "   l_{21}l_{11} & l_{21}^2 + l_{22}^2& l_{31}l_{21}+l_{32}l_{22} \\\\\n",
    "   l_{31}l_{11} & l_{31}l_{21}+l_{32}l_{22} & l_{31}^2 + l_{32}^2+l_{33}^2\n",
    "\\end{pmatrix}\n",
    "\\end{equation*}"
   ]
  },
  {
   "cell_type": "markdown",
   "metadata": {},
   "source": [
    "In dit 3x3 voorbeeld, lossen we het volgende systeem:\n",
    "\n",
    "We kunnen zien dat er een patroon is om de diagonaal elementen van $L$ te berekenen:\n",
    "\n",
    "$$l_{11} = \\sqrt{a_{11}}$$\n",
    "$$l_{22} = \\sqrt{a_{22} - l_{21}^2}$$\n",
    "$$l_{33} = \\sqrt{a_{33} - (l_{31}^2 + l_{32}^2)}$$\n",
    "\n",
    "of in het algemeen:\n",
    "\n",
    "$$l_{ii} = \\sqrt{a_{ii} - \\sum_{m=1}^{i-1} l_{im}^2}$$\n",
    "\n",
    "Voor de elementen onder de diagonaal ($l_{ij}$, waar $i > j$) is er ook een onderliggend patroon:\n",
    "\n",
    "$$l_{21} = \\frac{1}{l_{11}} a_{21}$$\n",
    "$$l_{31} = \\frac{1}{l_{11}} a_{31}$$\n",
    "$$l_{32} = \\frac{1}{l_{22}} (a_{32} - l_{31}l_{21})$$\n",
    "\n",
    "of in het algemeen:\n",
    "$$l_{ij} = \\frac{1}{l_{jj}} \\left ( a_{ij} - \\sum_{m=1}^{j-1} l_{im}l_{jm} \\right )$$"
   ]
  },
  {
   "cell_type": "code",
   "execution_count": 2,
   "metadata": {},
   "outputs": [],
   "source": [
    "def cholesky(A):\n",
    "    \"\"\"\n",
    "    Gegeven een matrix A, pas de Cholesky decompositie (A = LL') toe en geef de matrix L terug. \n",
    "    \"\"\"\n",
    "    n = len(A)\n",
    "    L = np.zeros((n, n))\n",
    "    \n",
    "    for i in range(n):\n",
    "        for j in range(i):\n",
    "            # in numpy: L[i, :j] => alle elementen uit rij i van kolom 0 tot en met kolom j-1 (dus kolom j niet)\n",
    "            L[i, j] = (1 / L[j, j]) * (A[i, j] - np.dot(L[i, :j], L[j, :j]))\n",
    "        L[i, i] = np.sqrt(A[i, i] - np.dot(L[i, :i], L[i, :i]))\n",
    "    return L"
   ]
  },
  {
   "cell_type": "code",
   "execution_count": 3,
   "metadata": {},
   "outputs": [
    {
     "name": "stdout",
     "output_type": "stream",
     "text": [
      "Error:  0.0\n"
     ]
    }
   ],
   "source": [
    "# TEST ###\n",
    "L = np.asmatrix([[1, 0, 0],[2, 3, 0],[4, 5, 6]])\n",
    "A = L*L.transpose()\n",
    "\n",
    "L_new = cholesky(A)\n",
    "print(\"Error: \", str(np.linalg.norm(L_new - L)))"
   ]
  },
  {
   "cell_type": "markdown",
   "metadata": {},
   "source": [
    "## 2. Stabiliteit\n",
    "\n",
    "Een LU-decompositie is numeriek niet sterk stabiel.\n",
    "Neem $F(L, U) = A + \\Delta A$.<br>\n",
    "Dan wordt de onvermijdelijke fout gegeven door:\n",
    "$$\\delta F \\le \\frac{||L|| \\cdot ||U||}{||A||} \\cdot C \\cdot \\epsilon$$\n",
    "met $\\epsilon$ de machineprecisie en $C$ een constante.<br>\n",
    "Aangezien $||L||$ en $||U||$ arbitrair groot kunnen worden, is dit algoritme niet sterk stabiel.\n",
    "\n",
    "Leg uit waarom een Cholesky decompositie <i>wel</i> sterk stabiel is.\n",
    "\n",
    "(Opmerking: $||M|| = \\sqrt{\\sum\\limits_{i,j} M_{ij}^2}$ voor een matrix $M$.)<br>\n",
    "(Hint: $||MM'|| = ||M||^2$)"
   ]
  },
  {
   "cell_type": "markdown",
   "metadata": {},
   "source": [
    "<b>ANSWER:</b>\n",
    "\n",
    "Aangezien $U = L'$, krijgen we\n",
    "$$\\delta F \\le \\frac{||L|| \\cdot ||L'||}{||A||} \\cdot C \\cdot \\epsilon = \\frac{||L||^2}{||A||} \\cdot C \\cdot \\epsilon =  \\frac{||LL'||}{||A||} \\cdot C \\cdot \\epsilon = \\frac{||A||}{||A||} \\cdot C \\cdot \\epsilon = C \\cdot \\epsilon$$<br>\n",
    "(Opmerking: Bij een LU-decompositie, heb je in het algemeen $\\frac{||L||\\cdot||U||}{||A||} \\ge \\frac{||LU||}{||A||}$, waardoor je de linker term dus niet op dezelfde manier kunt begrenzen.)"
   ]
  },
  {
   "cell_type": "markdown",
   "metadata": {},
   "source": [
    "## 3. Inverse covariantie matrix\n",
    "\n",
    "Aangezien iedere covariantie matrix een symmetrische positief semi-definiete matrix is, kunnen we de Cholesky decompositie van een covariantie matrix op een stabiele manier berekenen.\n",
    "\n",
    "We kunnen dit toepassen op de covariantie matrix van het protein <i>1ag6A</i> om zo de PSICOV methode te vervolledigen.\n",
    "\n",
    "De volgende files worden in de test-code gebruikt en mogen niet aangepast worden:\n",
    "* $\\texttt{1ag6A-20.csv}$ - Covariantie matrix\n",
    "* $\\texttt{1ag6A.CB}$ - Werkelijke contacten\n",
    "* $\\texttt{psicov.py}$ - Code om de covariantie matrix in te lezen en contacten te voorspellen (stap 1 en 3 van PSICOV)\n",
    "\n",
    "Kan je gebruikmakend van jouw geimplementeerde Cholesky decompositie de inverse berekenen en de PSICOV methode vervolledigen?\n",
    "\n",
    "<b>ANSWER:</b>\n",
    "\n",
    "Los de volgende stelsels op (zie LU decompositie):\n",
    "$$\\begin{cases}\n",
    "LY = I \\quad\\ \\ \\text{ [gebruik voorwaartse substitutie]}\\\\\n",
    "L'X = Y \\quad \\text{ [gebruik achterwaartse substutie]}\n",
    "\\end{cases}$$\n",
    "Dit geeft de inverse van de matrix $A = LL'$, want\n",
    "$$\\begin{cases}\n",
    "LY = I \\Leftrightarrow Y = L^{-1}\\\\\n",
    "L'X = Y = L^{-1} \\Leftrightarrow X = (L')^{-1}L^{-1} = (LL')^{-1} = A^{-1}\n",
    "\\end{cases}$$"
   ]
  },
  {
   "cell_type": "code",
   "execution_count": 11,
   "metadata": {},
   "outputs": [],
   "source": [
    "import scipy.linalg\n",
    "\n",
    "# Functies om Ax = b op te lossen, gebruikmakend van voorwaartse en\n",
    "# achterwaartste substitutie met parameters A en b.\n",
    "forward = lambda A, b: scipy.linalg.solve_triangular(A, b, lower=True)\n",
    "backward = lambda A, b: scipy.linalg.solve_triangular(A, b, lower=False)\n",
    "    \n",
    "def inv_cov(M):\n",
    "    \"\"\"\n",
    "    Inverteer een covariantie matrix M.\n",
    "    \"\"\"\n",
    "    L = cholesky(M)\n",
    "    Y = forward(L, np.identity(len(L)))\n",
    "    X = backward(L.transpose(), Y)\n",
    "    return(X)"
   ]
  },
  {
   "cell_type": "code",
   "execution_count": 12,
   "metadata": {},
   "outputs": [
    {
     "data": {
      "image/png": "[encoded data removed]",
      "text/plain": [
       "<Figure size 640x480 with 1 Axes>"
      ]
     },
     "metadata": {},
     "output_type": "display_data"
    }
   ],
   "source": [
    "%run psicov.py\n",
    "\n",
    "### TEST ###\n",
    "\n",
    "#Retrieve the covariance matrix of 1ag6A and compute the inverse\n",
    "M = retrieve_covariance_matrix('1ag6A-20.csv')\n",
    "M_inv = inv_cov(M)\n",
    "\n",
    "#Predict the amino-amino contacts and compare it with the actual contacts\n",
    "pred_contacts = retrieve_predicted_contacts(M_inv)\n",
    "true_contacts = retrieve_true_contacts('1ag6A.CB', 8)\n",
    "n = range(1, 150)\n",
    "accuracies = [fraction_of_correct_predictions(pred_contacts[:i], true_contacts) for i in n]\n",
    "\n",
    "### PLOT ###\n",
    "plt.plot(n, accuracies)\n",
    "plt.xlabel('Top n predicted contacts')\n",
    "plt.ylabel('Accuracy')\n",
    "plt.xlim(1,150)\n",
    "plt.ylim(0,1.1)\n",
    "plt.show()"
   ]
  },
  {
   "cell_type": "code",
   "execution_count": null,
   "metadata": {},
   "outputs": [],
   "source": []
  },
  {
   "cell_type": "code",
   "execution_count": null,
   "metadata": {},
   "outputs": [],
   "source": []
  },
  {
   "cell_type": "code",
   "execution_count": null,
   "metadata": {},
   "outputs": [],
   "source": []
  }
 ],
 "metadata": {
  "anaconda-cloud": {},
  "kernelspec": {
   "display_name": "Python 3 (ipykernel)",
   "language": "python",
   "name": "python3"
  },
  "language_info": {
   "codemirror_mode": {
    "name": "ipython",
    "version": 3
   },
   "file_extension": ".py",
   "mimetype": "text/x-python",
   "name": "python",
   "nbconvert_exporter": "python",
   "pygments_lexer": "ipython3",
   "version": "3.11.10"
  }
 },
 "nbformat": 4,
 "nbformat_minor": 4
}
