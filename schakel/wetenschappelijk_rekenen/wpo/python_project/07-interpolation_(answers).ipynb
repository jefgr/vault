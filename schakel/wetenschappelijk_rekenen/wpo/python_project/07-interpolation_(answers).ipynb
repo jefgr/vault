{
 "cells": [
  {
   "cell_type": "markdown",
   "metadata": {},
   "source": [
    "# Sessie 7 - Interpolatie"
   ]
  },
  {
   "cell_type": "markdown",
   "metadata": {},
   "source": [
    "Voer de onderstaande code uit."
   ]
  },
  {
   "cell_type": "code",
   "execution_count": null,
   "metadata": {},
   "outputs": [],
   "source": [
    "%matplotlib inline\n",
    "\n",
    "import csv\n",
    "import math\n",
    "import numpy as np\n",
    "\n",
    "from matplotlib import pyplot as plt"
   ]
  },
  {
   "cell_type": "code",
   "execution_count": null,
   "metadata": {},
   "outputs": [],
   "source": [
    "def list2column(v):\n",
    "    \"\"\"Transponeer een lijst van elementen naar een kolomvector.\"\"\"\n",
    "    return np.asmatrix(v).transpose()\n",
    "\n",
    "def column2list(v):\n",
    "    \"\"\"Transponeer een kolomvector naar een lijst van elementen.\"\"\"\n",
    "    return np.array(v.transpose())[0]"
   ]
  },
  {
   "cell_type": "markdown",
   "metadata": {},
   "source": [
    "## 1. Algemene lineaire interpolatie\n",
    "\n",
    "In de cursus hebben we gezien dat we een functie $f(x)$ kunnen benaderen door punten $(x_i, f_i)$ d.m.v. een lineaire interpolatie functie\n",
    "\n",
    "$$y(x) = \\sum\\limits_j a_j\\Phi_j(x)\\ \\text{ waarbij }\\ y(x_i) = f_i$$\n",
    "\n",
    "met onbekenden $a_j$ en basisfuncties $\\Phi_j(x)$.\n",
    "Zo geeft $\\Phi_j(x) = |x - x_j|$ een stuksgewijze lineaire interpolatie.\n",
    "\n",
    "Implementeer een methode dat, gegeven een reeks basisfuncties, een interpolatiefunctie berekent voor een functie $f(x)$ door de punten $(x_i, f_i)$."
   ]
  },
  {
   "cell_type": "code",
   "execution_count": null,
   "metadata": {},
   "outputs": [],
   "source": [
    "def create_linear_bf(x_j):\n",
    "    \"\"\"Create a linear basis function.\"\"\"\n",
    "    return lambda x: abs(x - x_j)\n",
    "\n",
    "\n",
    "def interpolate(xis, fis, phis):\n",
    "    \"\"\"Returns an interpolation through points (xi, fi) with basis functions phis.\"\"\"\n",
    "    # original datapoints (xis)\n",
    "    # xis = [-1, 0, 2, 5, 8, 10]\n",
    "    A = np.asmatrix([[phi(xi) for phi in phis] for xi in xis])\n",
    "    # Turns into matrix (A):\n",
    "    # [[ 0  1  3  6  9 11]\n",
    "    #  [ 1  0  2  5  8 10]\n",
    "    #  [ 3  2  0  3  6  8]\n",
    "    #  [ 6  5  3  0  3  5]\n",
    "    #  [ 9  8  6  3  0  2]\n",
    "    #  [11 10  8  5  2  0]] \n",
    "    # Note how A[i][i] = 0, \n",
    "    #    as the distance between an element and itself is zero\n",
    "    \n",
    "    # Ax = b => x = A^(-1)b\n",
    "    weights = np.linalg.inv(A)*list2column(fis) \n",
    "    weights = column2list(weights)\n",
    "    def y(x):\n",
    "        return sum(map(lambda w, phi: w*phi(x), weights, phis))\n",
    "    return y\n"
   ]
  },
  {
   "cell_type": "code",
   "execution_count": null,
   "metadata": {},
   "outputs": [],
   "source": [
    "### TEST ###\n",
    "\n",
    "# Function f\n",
    "f = lambda x: x*math.sin(x)\n",
    "xs = np.linspace(-1, 10, 1000)\n",
    "fs = list(map(f, xs))\n",
    "plt.title('Function')\n",
    "plt.plot(xs, fs)\n",
    "\n",
    "# Data points (xi, fi)\n",
    "xis = [-1, 0, 2, 5, 8, 10]\n",
    "fis = list(map(f, xis))\n",
    "plt.plot(xis, fis, 'bo')\n",
    "\n",
    "# !! Create linear BFs centered around xi !!\n",
    "phis = list(map(create_linear_bf, xis))\n",
    "\n",
    "# Interpolate through (xi, fi) using basis functions phi\n",
    "y = interpolate(xis, fis, phis)\n",
    "ys = list(map(y, xs))\n",
    "plt.plot(xs, ys)\n",
    "plt.xlim(-1,10)\n",
    "\n",
    "# Plot basis functions\n",
    "plt.figure()\n",
    "plt.title('Basis Functions')\n",
    "for phi in phis:\n",
    "    ps = list(map(phi, xs))\n",
    "    plt.plot(xs, ps)\n",
    "plt.plot(xis, [0 for _ in range(len(xis))], 'bo')\n",
    "plt.xlim(-1,10);"
   ]
  },
  {
   "cell_type": "code",
   "execution_count": null,
   "metadata": {
    "scrolled": true
   },
   "outputs": [],
   "source": [
    "# Plot scaled basis functions\n",
    "P = np.asmatrix([[phi(xi) for phi in phis] for xi in xis])\n",
    "weights = np.linalg.solve(P, fis)\n",
    "\n",
    "plt.figure()\n",
    "plt.title('Scaled Basis Functions')\n",
    "for i in range(len(phis)):\n",
    "    phi = phis[i]\n",
    "    weight = weights[i]\n",
    "    ps = list(map(lambda x: weight*phi(x), xs))\n",
    "    plt.plot(xs, ps)\n",
    "plt.plot(xis, fis, 'bo')\n",
    "plt.xlim(-1,10);"
   ]
  },
  {
   "cell_type": "markdown",
   "metadata": {},
   "source": [
    "## 2. \"Lagrangiaanse\" lineaire interpolatie\n",
    "\n",
    "In de les hebben we gezien dat bij polynomiale interpolatie verschillende basissen mogelijk zijn. \n",
    "\n",
    "De Lagrangiaanse methode gebruikt als basisfuncties $\\Phi_i$:\n",
    "\n",
    "$$\\Phi_i(x_j) =\n",
    "\\left\\{ \n",
    "  \\begin{array}{ c l }\n",
    "    1 & \\quad \\textrm{als } i = j \\\\\n",
    "    0 & \\quad \\textrm{als } i \\neq j\n",
    "  \\end{array}\n",
    "\\right.$$\n",
    "\n",
    "Kan je voor stuksgewijs lineaire interpolatie ook dergelijke basisfuncties verzinnen? \n",
    "Bereken op basis van deze basisfuncties de interpolant voor het zelfde voorbeeld als voordien. "
   ]
  },
  {
   "cell_type": "code",
   "execution_count": null,
   "metadata": {},
   "outputs": [],
   "source": [
    "def create_linear_bf_lagrange(z1, z, z2):\n",
    "    \"\"\"Create a lagrangian linear basis function.\n",
    "    \n",
    "    Arguments 'z1', 'z', 'z2' correspond to three consecutive datapoints:\n",
    "        z1 = x_{i-1}\n",
    "        z  = x_{i}\n",
    "        z2 = x_{i+1}\n",
    "    \"\"\"\n",
    "    # The args are three consecutive datapoints from the dataset.\n",
    "    # For example: if xis = [0, 1, 5, 6, 7]\n",
    "    #   One basis function will be centered around xi = 5\n",
    "    #   Thus, for phi_2(x) corresponds to calling 'create_linear_bf_lagrange(z1=1, z=5, z2=6)'\n",
    "    def lagrange_basis_function(x):\n",
    "        if x < z1 or x > z2:\n",
    "            return 0\n",
    "        elif x == z:\n",
    "            return 1\n",
    "        elif x >= z:\n",
    "            return (x - z2) / (z - z2)\n",
    "        else:\n",
    "            return (x - z1) / (z - z1)\n",
    "    return lagrange_basis_function"
   ]
  },
  {
   "cell_type": "code",
   "execution_count": null,
   "metadata": {},
   "outputs": [],
   "source": [
    "def create_basis_functions_lagrange(xis):\n",
    "    \"\"\"Create the linear approximations with the langrange linear BF using three points.\"\"\"\n",
    "    # Problem: what about the first and last element of xis?\n",
    "    #   Solution: create an extended xis-list with duplicated knots for xis[0] and x[-1]\n",
    "    #   xis[-1] corresponds to taking the last element of a list\n",
    "    # For example: if xis = [0, 1, 5, 6, 7]\n",
    "    #   One basis function will be centered around xi = 7\n",
    "    #   Thus, phi_4(x) will correspond to calling 'create_linear_bf_lagrange(z1=6, z=7, z2=7)'\n",
    "    xis_extended = []\n",
    "    xis_extended.append(xis[0])\n",
    "    xis_extended.extend(xis)\n",
    "    xis_extended.append(xis[-1])\n",
    "\n",
    "    basis_functions = []\n",
    "    for i in range(0, len(xis_extended) - 2):\n",
    "        bf = create_linear_bf_lagrange(xis_extended[i],\n",
    "                                       xis_extended[i+1],\n",
    "                                       xis_extended[i+2])\n",
    "        basis_functions.append(bf)    \n",
    "    return basis_functions"
   ]
  },
  {
   "cell_type": "code",
   "execution_count": null,
   "metadata": {},
   "outputs": [],
   "source": [
    "### TEST ###\n",
    "\n",
    "# approximate with langrage interpolation\n",
    "basis_functions_lang = create_basis_functions_lagrange(xis)\n",
    "\n",
    "# Interpolate through (xi, fi) using basis functions phi.\n",
    "plt.figure()\n",
    "plt.title('Function')\n",
    "plt.plot(xs, fs)\n",
    "plt.plot(xis, fis, 'bo')\n",
    "\n",
    "y_p = interpolate(xis, fis, basis_functions_lang)\n",
    "ys_p = list(map(y_p, xs))\n",
    "plt.plot(xs, ys_p)\n",
    "plt.xlim(-1,10)\n",
    "\n",
    "# Plot basis functions.\n",
    "plt.figure()\n",
    "plt.title('Basis Functions')\n",
    "for phi in basis_functions_lang:\n",
    "    ps = list(map(phi, xs))\n",
    "    plt.plot(xs, ps)\n",
    "plt.plot(xis, [0 for _ in range(len(xis))], 'bo')\n",
    "plt.xlim(-1,10);"
   ]
  },
  {
   "cell_type": "markdown",
   "metadata": {},
   "source": [
    "Los de volgende vragen op: \n",
    "\n",
    "\n",
    "1. Vergelijk de stuksgewijs lineaire interpolant die je hier verkreeg met degene die je in oefening 1 verkreeg. Wat valt er op? Kan je dit verklaren? <br>\n",
    "    <b>ANSWER:</b> \n",
    "    De twee zijn gelijk. Dat kan ook niet anders want de interpolant is uniek.\n",
    "\n",
    "\n",
    "2. Hoe ziet de matrix A eruit in het \"Lagrangiaans\" geval? Kan je dit verklaren? <br>\n",
    "    <b>ANSWER:</b> \n",
    "    We verkrijgen de eenheidsmatrix. Dit komt per constructie uit de eigenschap dat de i'de basisfunctie in alle knopen nul is behalve in i."
   ]
  },
  {
   "cell_type": "markdown",
   "metadata": {},
   "source": [
    "## 3. Radial Basis Functions\n",
    "\n",
    "Bij interpolatie worden Radial Basis Functions (RBF) als een transformatie over de inputwaarden $x_i$, zodat lineaire combinatie tussen deze transformaties voldoende is om ons een goede interpolant te geven.\n",
    "\n",
    "Deze functies worden vaak gecentreerd rond de geobserveerde punten. Zo is ook $\\Phi_j(x) = |x - x_j|$ een soort van RBF die hetzelfde effect geeft als een stuksgewijze lineaire interpolatie.\n",
    "\n",
    "Een basisfunctie die vaak gebruik wordt is de Gaussiaanse RBF:\n",
    "\n",
    "$$\\Phi(x)_j = \\exp\\left(-(x-x_j)^2 \\right)$$\n",
    "\n",
    "Deze functie is lineair onafhankelijk wanneer deze gecentreerd wordt op verschillende punten, en geeft een simpele, maar niet-lineaire transformatie van de input-ruimte. Daarnaast geeft deze een interpolant die differentieerbaar is.\n",
    "\n",
    "Implementeer een functie die deze RBF implementeert en pas de test-code uit de vorige oefening aan zodat deze gebruik maakt van Gaussiaanse RBFs."
   ]
  },
  {
   "cell_type": "code",
   "execution_count": null,
   "metadata": {},
   "outputs": [],
   "source": [
    "def create_gaussian_rbf(x_j):\n",
    "    \"\"\"Create a Gaussian RBF.\"\"\"\n",
    "    return lambda x: math.exp(-(x - x_j)**2)"
   ]
  },
  {
   "cell_type": "code",
   "execution_count": null,
   "metadata": {},
   "outputs": [],
   "source": [
    "### TEST ###\n",
    "\n",
    "# Function f\n",
    "f = lambda x: x*math.sin(x)\n",
    "xs = np.linspace(-1, 10, 1000)\n",
    "fs = list(map(f, xs))\n",
    "plt.title('Function')\n",
    "plt.plot(xs, fs)\n",
    "\n",
    "# Data points (xi, fi)\n",
    "xis = [-1, 0, 2, 5, 8, 10]\n",
    "fis = list(map(f, xis))\n",
    "plt.plot(xis, fis, 'bo')\n",
    "\n",
    "# Create Gaussian RBFs centered around xi\n",
    "phis = list(map(create_gaussian_rbf, xis))\n",
    "\n",
    "# Interpolate through (xi, fi) using basis functions phi\n",
    "y = interpolate(xis, fis, phis)\n",
    "ys = list(map(y, xs))\n",
    "plt.plot(xs, ys)\n",
    "plt.xlim(-1,10)\n",
    "\n",
    "# Plot basis functions\n",
    "plt.figure()\n",
    "plt.title('Basis Functions')\n",
    "for phi in phis:\n",
    "    ps = list(map(phi, xs))\n",
    "    plt.plot(xs, ps)\n",
    "plt.plot(xis, [0. for _ in range(len(xis))], 'bo')\n",
    "plt.xlim(-1,10);"
   ]
  },
  {
   "cell_type": "code",
   "execution_count": null,
   "metadata": {},
   "outputs": [],
   "source": [
    "# Plot scaled basis functions\n",
    "P = np.asmatrix([[phi(xi) for phi in phis] for xi in xis])\n",
    "weights = np.linalg.solve(P, fis)\n",
    "\n",
    "plt.figure()\n",
    "plt.title('Scaled Basis Functions')\n",
    "for i in range(len(phis)):\n",
    "    phi = phis[i]\n",
    "    weight = weights[i]\n",
    "    ps = list(map(lambda x: weight*phi(x), xs))\n",
    "    plt.plot(xs, ps)\n",
    "plt.plot(xis, fis, 'bo')\n",
    "plt.xlim(-1,10);"
   ]
  },
  {
   "cell_type": "markdown",
   "metadata": {},
   "source": [
    "## 4. Omgaan met ruis: interpolatie van globale temperatuur\n",
    "\n",
    "De volgende datapunten geven de globale temperatuur van 1961 tot 1990 (geschaald tussen 0 en 10):"
   ]
  },
  {
   "cell_type": "code",
   "execution_count": null,
   "metadata": {},
   "outputs": [],
   "source": [
    "fis_temp = []\n",
    "with open('global_temperature.csv', 'r') as csvfile:\n",
    "    reader = csv.reader(csvfile, delimiter=\";\")\n",
    "    \n",
    "    next(reader)\n",
    "    for row in reader:\n",
    "        fis_temp.append(float(row[1].replace(',', '.')))\n",
    "\n",
    "fis_temp = fis_temp[::6]\n",
    "xis_temp = [i*10. / len(fis_temp) for i in range(len(fis_temp))]\n",
    "plt.title('Global Temperature')\n",
    "plt.xlabel('Scaled year')\n",
    "plt.ylabel('Temperature (degrees C)')\n",
    "plt.plot(xis_temp, fis_temp, 'bo');"
   ]
  },
  {
   "cell_type": "markdown",
   "metadata": {},
   "source": [
    "Ook al is er een duidelijke, oscillerende trend zichtbaar, het is moeilijk om een goede expliciete functie te bepalen die de observaties verklaart. Daarnaast is er ruis zichtbaar, waardoor de datapunten niet meer overeenkomen met de onderliggende functiewaarden. We zullen nu zien hoe we kunnen omgaan met deze ruis.\n",
    "\n",
    "In veel applicaties hebben we te maken met data die niet honderd procent correct de onderliggende functie weergeeft (ruis). Als we evenveel basisfuncties gebruiken als datapunten, interpoleren we door deze \"foutieve\" datapunten, waardoor de functie $f(x)$ niet correct benaderd wordt. Dit fenomeen heet overfitting, aangezien het interpolatiemodel complex genoeg is om deze ruis te \"fitten\", terwijl de onderliggende functie $f(x)$ meestal simpeler is.\n",
    "\n",
    "Daarom is het dikwijls beter om het interpolatiemodel simpeler op te stellen (namelijk, met minder basisfuncties), zodat deze noise genegeerd wordt. Dit wil zeggen dat we minder onbekenden (coefficienten van de basisfuncties) hebben dan datapunten, waardoor het stelsel geen oplossing meer biedt die aan alle voorwaarden voldoet (i.e., interpoleer door ieder datapunt).\n",
    "Met andere woorden, het stelsel $Ax = b \\Leftrightarrow x = A^{-1}b$ is niet meer oplosbaar, aangezien $A$ niet vierkant meer is, dus geen inverse $A^{-1}$ heeft.\n",
    "\n",
    "We kunnen echter proberen een benadering te vinden die \"zo goed mogelijk\" aan de voorwaarden voldoet.\n",
    "Het idee is dat we een inverse voor een niet-vierkante matrix zullen definieren. Definieer de inverse voor een niet-vierkante matrix en implementeer een interpolatiemethode voor minder basisfuncties dan datapunten.\n",
    "\n",
    "(Hint: $Ax = b \\Rightarrow A'Ax = A'b$)"
   ]
  },
  {
   "cell_type": "markdown",
   "metadata": {},
   "source": [
    "<b>ANTWOORD:</b>\n",
    "\n",
    "We definieren de inverse als volgt:\n",
    "\n",
    "$$A'Ax = A'b \\Leftrightarrow x = (A'A)^{-1}A'b = A^+b$$\n",
    "\n",
    "$A^+$ noemen we de Moore-Penrose inverse en geeft een Least-Square Error approximatie op de oplossing van het stelsel.\n",
    "Dit betekent dat we het interpolatiemodel zullen nemen die de som van de 2-normen tussen de geobserveerde en geinterpoleerde punten verkleind."
   ]
  },
  {
   "cell_type": "code",
   "execution_count": null,
   "metadata": {},
   "outputs": [],
   "source": [
    "def interpolate_LSE(xis, fis, phis):\n",
    "    \"\"\"Return an approximate interpolation through points (xi, fi) with basis functions phis.\"\"\"\n",
    "    P = np.asmatrix([[phi(xi) for phi in phis] for xi in xis])\n",
    "    P_inv = np.linalg.inv(P.transpose()*P)*P.transpose()\n",
    "    weights = P_inv*list2column(fis)\n",
    "    weights = column2list(weights)\n",
    "    def y(x):\n",
    "        return sum(map(lambda w, phi: w*phi(x), weights, phis))\n",
    "    return y"
   ]
  },
  {
   "cell_type": "code",
   "execution_count": null,
   "metadata": {},
   "outputs": [],
   "source": [
    "### TEST ###\n",
    "\n",
    "# Plot temperature data\n",
    "plt.title('Global Temperature')\n",
    "plt.xlabel('Scaled year')\n",
    "plt.ylabel('Temperature (degrees C)')\n",
    "plt.plot(xis_temp, fis_temp, 'bo')\n",
    "\n",
    "xs = np.linspace(xis_temp[0], xis_temp[-1], 1000)\n",
    "\n",
    "# Create Gaussian RBFs centered around ci\n",
    "cis = np.linspace(xis_temp[0], xis_temp[-1], 10)\n",
    "phis = list(map(create_gaussian_rbf, cis))\n",
    "\n",
    "# Interpolate through (xi, fi) using basis functions phi\n",
    "y = interpolate_LSE(xis_temp, fis_temp, phis)\n",
    "ys = list(map(y, xs))\n",
    "plt.plot(xs, ys);"
   ]
  },
  {
   "cell_type": "code",
   "execution_count": null,
   "metadata": {},
   "outputs": [],
   "source": [
    "# Plot scaled basis functions\n",
    "P = np.asmatrix([[phi(xi) for phi in phis] for xi in xis_temp])\n",
    "P_inv = np.linalg.inv(P.transpose()*P)*P.transpose()\n",
    "weights = P_inv*list2column(fis_temp)\n",
    "weights = column2list(weights)\n",
    "\n",
    "plt.figure()\n",
    "plt.title('Scaled Basis Functions')\n",
    "plt.xlabel('Scaled year')\n",
    "plt.ylabel('Temperature (degrees C)')\n",
    "for i in range(len(phis)):\n",
    "    phi = phis[i]\n",
    "    weight = weights[i]\n",
    "    ps = list(map(lambda x: weight*phi(x), xs))\n",
    "    plt.plot(xs, ps)\n",
    "plt.plot(xis_temp, fis_temp, 'bo');"
   ]
  }
 ],
 "metadata": {
  "anaconda-cloud": {},
  "kernelspec": {
   "display_name": "courses",
   "language": "python",
   "name": "python3"
  },
  "language_info": {
   "codemirror_mode": {
    "name": "ipython",
    "version": 3
   },
   "file_extension": ".py",
   "mimetype": "text/x-python",
   "name": "python",
   "nbconvert_exporter": "python",
   "pygments_lexer": "ipython3",
   "version": "3.12.9"
  }
 },
 "nbformat": 4,
 "nbformat_minor": 4
}
