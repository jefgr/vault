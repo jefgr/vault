{
 "cells": [
  {
   "cell_type": "markdown",
   "metadata": {},
   "source": [
    "# Sessie 3 - Stelsels van lineaire vergelijkingen"
   ]
  },
  {
   "cell_type": "markdown",
   "metadata": {},
   "source": [
    "Voer de onderstaande code uit."
   ]
  },
  {
   "cell_type": "code",
   "metadata": {
    "collapsed": true,
    "jupyter": {
     "outputs_hidden": true
    },
    "ExecuteTime": {
     "end_time": "2025-03-20T10:06:34.540277Z",
     "start_time": "2025-03-20T10:06:34.535884Z"
    }
   },
   "source": [
    "%matplotlib inline\n",
    "\n",
    "import matplotlib.pyplot as plt\n",
    "import numpy as np"
   ],
   "outputs": [],
   "execution_count": 2
  },
  {
   "cell_type": "markdown",
   "metadata": {},
   "source": [
    "## Protein folding en PSICOV\n",
    "\n",
    "De Protein Data Bank ([PDB](http://www.rcsb.org/pdb/home/home.do)) is een database die allerlei informatie bevat over proteinen. Deze database bevat o.a. de 3D structuur van proteinen. Om deze structuur te bepalen (zie [protein folding](https://en.wikipedia.org/wiki/Protein_folding)), hebben we geautomatiseerde methodes nodig.\n",
    "\n",
    "We kunnen bijvoorbeeld kijken naar hoe proteinen evolueren. Het is geweten dat de 3D proteinstructuur bij mutatie meestal wordt behouden, en dus de amino-zuren (i.e., de deeltjes die een protein opmaken) gebonden moeten blijven. Dit wil zeggen dat de aminozuren die in contact zijn met elkaar moeten co-muteren om de chemische bindingen te behouden. Met andere woorden, als we naar <i>verschillende</i> sequenties van <i>hetzelfde</i> protein kijken, kunnen we relaties vinden tussen aminozuren in termen van co-mutaties.\n",
    "\n",
    "Een statistische methode dat gebruik maakt van dit idee, heet [PSICOV](http://www.ncbi.nlm.nih.gov/pubmed/22101153) en werkt als volgt:\n",
    "1. Stel een covariantie matrix van amino-paren op uit protein data.\n",
    "2. Inverteer deze matrix om correlaties te bekomen tussen amino-paren\n",
    "3. Bereken voor ieder paar wat de waarschijnlijkheid is dat deze zuren in contact zijn.\n",
    "\n",
    "De code voor stap 1 en 3 is gegeven, maar het cruciale gedeelte van deze methode is stap 2, namelijk het inverteren van de covariantie matrix, daar we tot nu toe niet echt stabiele of efficiente methodes hebben gezien. Stabiliteit is nodig, aangezien we zullen werken met een $420 \\times 420$ matrix voor een kleine sequentie van aminozuren (in de praktijk is dit gemiddeld een $3150 \\times 3150$ matrix)."
   ]
  },
  {
   "cell_type": "markdown",
   "metadata": {},
   "source": [
    "## 1. Cholesky Decomposition\n",
    "\n",
    "Een covariantie matrix is een symmetrische positief semi-definiete matrix $A$ (i.e., $\\forall z \\neq 0 \\in \\mathbb{R}^{n \\times 1}: z'Az \\ge 0$). <br>De $LU$ ontbinding van zo een matrix herleidt zich tot een Cholesky ontbinding ($A = LL'$).\n",
    "\n",
    "Stap 1: Herschrijf met pen en papier het algoritme van Crout-Doolittle om de elementen van $L$ te berekenen. <br>\n",
    "Stap 2: Implementeer dan deze methode.<br>\n",
    "(Hint: Crout-Doolittle neemt aan dat $l_{ii}$ gelijk is aan 1. Dit hoeft hier niet zo te zijn.)"
   ]
  },
  {
   "cell_type": "code",
   "metadata": {
    "ExecuteTime": {
     "end_time": "2025-03-20T10:25:39.628297Z",
     "start_time": "2025-03-20T10:25:39.624009Z"
    }
   },
   "source": [
    "# stap 2: \n",
    "def cholesky(A):\n",
    "    \"\"\"\n",
    "    Bereken de Cholesky decompositie A = LL' en geef de matrix L terug.\n",
    "    \"\"\"\n",
    "    n = len(A)\n",
    "    L = np.zeros((n, n))\n",
    "    ### FILL IN THE ENTRIES OF L ###\n",
    "    for i in range(n):\n",
    "        for j in range(i):\n",
    "            L[i, j] = (A[i, j] - np.dot(L[i, :j], L[j, :j].transpose()))/L[j, j]\n",
    "        L[i, i] = np.sqrt(A[i, i] - np.dot(L[i, :i], L[i, :i].transpose()))\n",
    "    return L"
   ],
   "outputs": [],
   "execution_count": 35
  },
  {
   "cell_type": "code",
   "metadata": {
    "ExecuteTime": {
     "end_time": "2025-03-20T10:25:41.874257Z",
     "start_time": "2025-03-20T10:25:41.862877Z"
    }
   },
   "source": [
    "### TEST ###\n",
    "L = np.asmatrix([[1, 0, 0],[2, 3, 0],[4, 5, 6]])\n",
    "A = L*L.transpose()\n",
    "L_new = cholesky(A)\n",
    "print(\"Error: \", str(np.linalg.norm(L_new - L)))\n",
    "print(L_new)"
   ],
   "outputs": [
    {
     "name": "stdout",
     "output_type": "stream",
     "text": [
      "Error:  0.0\n",
      "[[1. 0. 0.]\n",
      " [2. 3. 0.]\n",
      " [4. 5. 6.]]\n"
     ]
    }
   ],
   "execution_count": 36
  },
  {
   "cell_type": "markdown",
   "metadata": {},
   "source": [
    "## 2. Stabiliteit\n",
    "\n",
    "Een LU-decompositie is numeriek niet sterk stabiel.\n",
    "Neem $F(L, U) = A + \\Delta A$.<br>\n",
    "Dan wordt de onvermijdelijke fout gegeven door:\n",
    "$$\\delta F \\le \\frac{||L|| \\cdot ||U||}{||A||} \\cdot C \\cdot \\epsilon$$\n",
    "met $\\epsilon$ de machineprecisie en $C$ een constante.<br>\n",
    "Aangezien $||L||$ en $||U||$ arbitrair groot kunnen worden, is dit algoritme niet sterk stabiel.\n",
    "\n",
    "Leg uit waarom een Cholesky decompositie <i>wel</i> sterk stabiel is.\n",
    "\n",
    "(Opmerking: $||M|| = \\sqrt{\\sum\\limits_{i,j} M_{ij}^2}$ voor een matrix $M$.)<br>\n",
    "(Hint: $||MM'|| = ||M||^2$)"
   ]
  },
  {
   "cell_type": "markdown",
   "metadata": {},
   "source": [
    "## 3. Inverse covariantie matrix\n",
    "\n",
    "Aangezien iedere covariantie matrix een symmetrische positief semi-definiete matrix is, kunnen we de Cholesky decompositie van een covariantie matrix op een stabiele manier berekenen.\n",
    "\n",
    "We kunnen dit toepassen op de covariantie matrix van het protein <i>1ag6A</i> om zo de PSICOV methode te vervolledigen.\n",
    "\n",
    "De volgende files worden in de test-code gebruikt en mogen niet aangepast worden:\n",
    "* $\\texttt{1ag6A-20.csv}$ - Covariantie matrix\n",
    "* $\\texttt{1ag6A.CB}$ - Werkelijke contacten\n",
    "* $\\texttt{psicov.py}$ - Code om de covariantie matrix in te lezen en contacten te voorspellen (stap 1 en 3 van PSICOV)\n",
    "\n",
    "Kan je gebruikmakend van jouw geimplementeerde Cholesky decompositie de inverse berekenen en de PSICOV methode vervolledigen?"
   ]
  },
  {
   "cell_type": "code",
   "metadata": {
    "ExecuteTime": {
     "end_time": "2025-03-20T10:52:17.585385Z",
     "start_time": "2025-03-20T10:51:58.627825Z"
    }
   },
   "source": [
    "import scipy.linalg\n",
    "\n",
    "#Functies om Ax = b op te lossen, gebruikmakend van voorwaartse en\n",
    "#achterwaartste substitutie met parameters A en b.\n",
    "forward = lambda A, b: scipy.linalg.solve_triangular(A, b, lower=True)\n",
    "backward = lambda A, b: scipy.linalg.solve_triangular(A, b, lower=False)\n",
    "    \n",
    "def inv_cov(M):\n",
    "    \"\"\"\n",
    "    Inverteer een covariantie matrix M.\n",
    "    \"\"\"\n",
    "    pass ### CODE HERE ###"
   ],
   "outputs": [],
   "execution_count": 37
  },
  {
   "cell_type": "code",
   "metadata": {
    "ExecuteTime": {
     "end_time": "2025-03-20T10:53:16.643233Z",
     "start_time": "2025-03-20T10:53:16.544548Z"
    }
   },
   "source": [
    "from psicov import *\n",
    "%run psicov.py\n",
    "\n",
    "### TEST ###\n",
    "\n",
    "#Retrieve the covariance matrix of 1ag6A and compute the inverse\n",
    "M = retrieve_covariance_matrix('1ag6A-20.csv')\n",
    "M_inv = inv_cov(M)\n",
    "\n",
    "#Predict the amino-amino contacts and compare it with the actual contacts\n",
    "pred_contacts = retrieve_predicted_contacts(M_inv)\n",
    "true_contacts = retrieve_true_contacts('1ag6A.CB', 8)\n",
    "n = range(1, 150)\n",
    "accuracies = [fraction_of_correct_predictions(pred_contacts[:i], true_contacts) for i in n] #Compute the\n",
    "\n",
    "### PLOT ###\n",
    "plt.plot(n, accuracies)\n",
    "plt.xlabel('Top n predicted contacts')\n",
    "plt.ylabel('Accuracy')\n",
    "plt.xlim(1,150)\n",
    "plt.ylim(0,1)\n",
    "plt.show()"
   ],
   "outputs": [
    {
     "ename": "TypeError",
     "evalue": "object of type 'NoneType' has no len()",
     "output_type": "error",
     "traceback": [
      "\u001B[1;31m---------------------------------------------------------------------------\u001B[0m",
      "\u001B[1;31mTypeError\u001B[0m                                 Traceback (most recent call last)",
      "Cell \u001B[1;32mIn[40], line 11\u001B[0m\n\u001B[0;32m      8\u001B[0m M_inv \u001B[38;5;241m=\u001B[39m inv_cov(M)\n\u001B[0;32m     10\u001B[0m \u001B[38;5;66;03m#Predict the amino-amino contacts and compare it with the actual contacts\u001B[39;00m\n\u001B[1;32m---> 11\u001B[0m pred_contacts \u001B[38;5;241m=\u001B[39m \u001B[43mretrieve_predicted_contacts\u001B[49m\u001B[43m(\u001B[49m\u001B[43mM_inv\u001B[49m\u001B[43m)\u001B[49m\n\u001B[0;32m     12\u001B[0m true_contacts \u001B[38;5;241m=\u001B[39m retrieve_true_contacts(\u001B[38;5;124m'\u001B[39m\u001B[38;5;124m1ag6A.CB\u001B[39m\u001B[38;5;124m'\u001B[39m, \u001B[38;5;241m8\u001B[39m)\n\u001B[0;32m     13\u001B[0m n \u001B[38;5;241m=\u001B[39m \u001B[38;5;28mrange\u001B[39m(\u001B[38;5;241m1\u001B[39m, \u001B[38;5;241m150\u001B[39m)\n",
      "File \u001B[1;32m~\\Documents\\IRCS\\vaults\\wetenschappelijk_rekenen\\wpo\\python_project\\psicov.py:17\u001B[0m, in \u001B[0;36mretrieve_predicted_contacts\u001B[1;34m(M_inv)\u001B[0m\n\u001B[0;32m     13\u001B[0m \u001B[38;5;28;01mdef\u001B[39;00m\u001B[38;5;250m \u001B[39m\u001B[38;5;21mretrieve_predicted_contacts\u001B[39m(M_inv):\n\u001B[0;32m     14\u001B[0m \u001B[38;5;250m    \u001B[39m\u001B[38;5;124;03m\"\"\"\u001B[39;00m\n\u001B[0;32m     15\u001B[0m \u001B[38;5;124;03m    Retrieve the predicted contacts from the inverse covariance matrix M_inv.\u001B[39;00m\n\u001B[0;32m     16\u001B[0m \u001B[38;5;124;03m    \"\"\"\u001B[39;00m\n\u001B[1;32m---> 17\u001B[0m     \u001B[38;5;28;01mreturn\u001B[39;00m \u001B[38;5;28mlist\u001B[39m(\u001B[38;5;28mzip\u001B[39m(\u001B[38;5;241m*\u001B[39m\u001B[43mcompute_scores\u001B[49m\u001B[43m(\u001B[49m\u001B[43mM_inv\u001B[49m\u001B[43m)\u001B[49m))[\u001B[38;5;241m0\u001B[39m]\n",
      "File \u001B[1;32m~\\Documents\\IRCS\\vaults\\wetenschappelijk_rekenen\\wpo\\python_project\\psicov.py:50\u001B[0m, in \u001B[0;36mcompute_scores\u001B[1;34m(M)\u001B[0m\n\u001B[0;32m     46\u001B[0m \u001B[38;5;28;01mdef\u001B[39;00m\u001B[38;5;250m \u001B[39m\u001B[38;5;21mcompute_scores\u001B[39m(M):\n\u001B[0;32m     47\u001B[0m \u001B[38;5;250m    \u001B[39m\u001B[38;5;124;03m\"\"\"\u001B[39;00m\n\u001B[0;32m     48\u001B[0m \u001B[38;5;124;03m    Compute the PSICOV scores from the amino-amino correlation matrix M.\u001B[39;00m\n\u001B[0;32m     49\u001B[0m \u001B[38;5;124;03m    \"\"\"\u001B[39;00m\n\u001B[1;32m---> 50\u001B[0m     n \u001B[38;5;241m=\u001B[39m \u001B[38;5;28mint\u001B[39m(\u001B[38;5;28;43mlen\u001B[39;49m\u001B[43m(\u001B[49m\u001B[43mM\u001B[49m\u001B[43m)\u001B[49m \u001B[38;5;241m/\u001B[39m \u001B[38;5;241m21\u001B[39m)\n\u001B[0;32m     51\u001B[0m     contacts \u001B[38;5;241m=\u001B[39m np\u001B[38;5;241m.\u001B[39mzeros((n,n))\n\u001B[0;32m     52\u001B[0m     scores \u001B[38;5;241m=\u001B[39m {}\n",
      "\u001B[1;31mTypeError\u001B[0m: object of type 'NoneType' has no len()"
     ]
    }
   ],
   "execution_count": 40
  }
 ],
 "metadata": {
  "anaconda-cloud": {},
  "kernelspec": {
   "display_name": "Python 3 (ipykernel)",
   "language": "python",
   "name": "python3"
  },
  "language_info": {
   "codemirror_mode": {
    "name": "ipython",
    "version": 3
   },
   "file_extension": ".py",
   "mimetype": "text/x-python",
   "name": "python",
   "nbconvert_exporter": "python",
   "pygments_lexer": "ipython3",
   "version": "3.12.7"
  }
 },
 "nbformat": 4,
 "nbformat_minor": 4
}
