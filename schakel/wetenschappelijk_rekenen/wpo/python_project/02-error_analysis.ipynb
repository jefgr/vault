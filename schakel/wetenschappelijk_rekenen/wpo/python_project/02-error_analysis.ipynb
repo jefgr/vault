{
 "cells": [
  {
   "cell_type": "markdown",
   "metadata": {},
   "source": [
    "# Sessie 2 - Foutenanalyse\n",
    "\n",
    "In computers worden getallen inherent voorgesteld in hun floating-point representatie. De precisie hiervan is zeer hoog, maar de fout op de uitvoer kan opblazen wanneer het algoritme numeriek onstabiel is. In de meeste domeinen, zijn zulke foutmarges ongewenst.\n",
    "\n",
    "We zullen nu enkele oefeningen maken rond numerieke stabiliteit. <b>(Gebruik voor de oefeningen altijd een eerste orde analyse.)</b>"
   ]
  },
  {
   "cell_type": "markdown",
   "metadata": {},
   "source": [
    "## 1. Conditionering\n",
    "\n",
    "Geef een definitie voor conditionering met meer dan 1 invoer waarbij de relatieve fout gegeven wordt door\n",
    "$$\\delta x = \\frac{||fl(x) - x||}{||x||}$$\n",
    "met $||\\cdot||$ de 2-norm.\n",
    "\n",
    "(Hint: Gebruik de Jacobiaan $(i.e., \\nabla F(x))$ voor de afgeleide van de functie $F$ naar meerdere inputs.)\n"
   ]
  },
  {
   "metadata": {},
   "cell_type": "markdown",
   "source": "Zie oplossing!!! #TODO probeer afleiding voor functie in 1 variabele"
  },
  {
   "cell_type": "markdown",
   "metadata": {},
   "source": [
    "## 2. Zwakke stabiliteit\n",
    "\n",
    "Toon aan dat de aftrekking van twee getallen met eenzelfde teken zwak stabiel is, gebruikmakend van een eerste orde analyse (i.e., alleen lineaire foutbijdragen worden in rekening genomen).\n",
    "\n",
    "Een algoritme is zwak stabiel als haar *onvermijdelijke fout* vergelijkbaar is met de *conditionering* van het probleem.\n",
    "$$\\delta F(x) = C \\gamma \\epsilon  \\qquad\\text{[met $C > 0$]}$$\n",
    "\n",
    "Dus, beschouw:\n",
    "$$F(x, y) =  x - y$$\n",
    "$$F_{fl}(x, y) =  fl(fl(x) - fl(y))$$\n",
    "met $x, y \\ge 0$ zonder verlies van algemeenheid en $F_{fl}$ correspondeert aan de functie $F$ met floating-point aritmetiek $fl$.\n",
    "\n",
    "(Opmerking: zie de eerste oefening voor het conditiegetal van een functie met meerdere inputs.)"
   ]
  },
  {
   "metadata": {},
   "cell_type": "markdown",
   "source": [
    "fl(x - y)\n",
    "= (x - y)(1 + µ-)\n",
    "= x + xµ - y - yµ\n",
    "Formule |delta(F)| = |F(fl(x) - F(x)|/|F(x)|\n",
    "=> |delta(x - y)| = |x + xµ - y - yµ - (x - y)|\n",
    "= |xµ - yµ|/|x - y|\n",
    "=< |xµ| + |-yµ| / |x - y|\n",
    "=< ∈ * (|x| + |-y|)/|x - y|\n",
    "=< ∈ * (|x| + |y|)/|x - y|"
   ]
  },
  {
   "cell_type": "markdown",
   "metadata": {},
   "source": [
    "# Extra oefeningen (oplossingen volgende week)"
   ]
  },
  {
   "cell_type": "markdown",
   "metadata": {},
   "source": [
    "## 3. Discriminantmethode\n",
    "\n",
    "Pas de discriminantmethode toe op de vergelijking\n",
    "$10^{-3} x^2 + 5 x + 10^{-1} = 0$\n",
    "in een systeem met precisie 3.\n",
    "\n",
    "De discriminantmethode past de volgende formule toe:\n",
    "$$\\frac{-b \\pm \\sqrt{b^2 - 4ac}}{2a}$$\n",
    "voor een vergelijking $ax^2 + bx + c = 0$.\n",
    "\n",
    "Deze methode lijdt aan \"catastrophic cancellation\", aangezien\n",
    "\n",
    "* $\\frac{-b + \\sqrt{b^2 - 4ac}}{2a} = \\frac{-5 + \\sqrt{5^2 - 4 \\cdot \\color{red}{10^{-4}}}}{2 \\cdot 10^{-3}} \\stackrel{\\color{blue}{\\text{prec. 3}}}{\\approx} \\frac{-5 + \\sqrt{5^2 -  \\color{red}{0}}}{2 \\cdot 10^{-3}} = 0$\n",
    "\n",
    "terwijl de exacte oplossing\n",
    "\n",
    "* $\\frac{-5 + \\sqrt{5^2 - 4 \\cdot 10^{-4}}}{2 \\cdot 10^{-3}} \\approx \\frac{-4 \\cdot 10^{-5}}{2 \\cdot 10^{-3}} = -0.02$\n",
    "\n",
    "geeft.\n",
    "\n",
    "Gegeven dat je een positieve $b$ hebt en een aftrekking van twee getallen met hetzelfde teken, kan je deze methode stabiliseren?"
   ]
  },
  {
   "cell_type": "code",
   "metadata": {
    "ExecuteTime": {
     "end_time": "2025-03-06T10:58:47.504188Z",
     "start_time": "2025-03-06T10:58:47.496174Z"
    }
   },
   "source": [
    "import numpy as np\n",
    "import math\n",
    "\n",
    "def discriminant(a, b, c):\n",
    "    d = Decimal(math.sqrt(b**2 - 4*a*c))\n",
    "    return Decimal((-b + d) / (2 * a)), Decimal((-b - d) / (2 * a))\n",
    "\n",
    "# b - b is problematisch daarvoor werken we die weg in de + case (-b + D), door te vermenigvuldigen met de complex toegevoegde\n",
    "def discriminant_stable(a, b, c):\n",
    "    d = np.sqrt(b**2 - 4*a*c)\n",
    "    x1 = -2 * c / (b + d)\n",
    "    x2 = -(b + d) / (2 * a)\n",
    "    return x1, x2"
   ],
   "outputs": [],
   "execution_count": 50
  },
  {
   "cell_type": "code",
   "metadata": {
    "ExecuteTime": {
     "end_time": "2025-03-06T10:58:49.034901Z",
     "start_time": "2025-03-06T10:58:49.026176Z"
    }
   },
   "source": [
    "### TEST ###\n",
    "import numpy as np\n",
    "from decimal import *\n",
    "\n",
    "#Floating-point getallen\n",
    "a = Decimal(1e-3); b = Decimal(5.00); c = Decimal(1e-1)\n",
    "print(discriminant(a, b, c))\n",
    "#Zet precisie op 28 en bereken de (zo goed als) exacte waarde\n",
    "getcontext().prec = 28\n",
    "exact = np.array([-0.02000008000064001, -4999.9799999199995])\n",
    "\n",
    "#Zet precisie op 4 en zoek het nulpunt gebruikmakend van de stabielen en onstabiele discriminant methode.\n",
    "#De coefficienten hebben dus invoerfout.\n",
    "getcontext().prec = 3\n",
    "approx = np.array(discriminant(a, b, c))\n",
    "approx_stable = np.array(discriminant_stable(a, b, c))\n",
    "print(approx)\n",
    "print(exact)\n",
    "#Bereken de exacte waarde en waardes gegeven door de stabielen en onstabiele discriminant methode\n",
    "print(\"Exact solution:\", tuple(map(float, exact)))\n",
    "print(\"Discriminant method in prec. 3:\", tuple(map(float, approx)))\n",
    "print(\"Stable discriminant method in prec. 3:\", tuple(map(float, approx_stable)))"
   ],
   "outputs": [
    {
     "name": "stdout",
     "output_type": "stream",
     "text": [
      "(Decimal('0E+5'), Decimal('-5E+3'))\n",
      "[Decimal('0E+5') Decimal('-5E+3')]\n",
      "[-2.000008e-02 -4.999980e+03]\n",
      "Exact solution: (-0.02000008000064001, -4999.9799999199995)\n",
      "Discriminant method in prec. 3: (0.0, -5000.0)\n",
      "Stable discriminant method in prec. 3: (-0.02, -5000.0)\n"
     ]
    }
   ],
   "execution_count": 51
  },
  {
   "cell_type": "markdown",
   "metadata": {
    "collapsed": true
   },
   "source": [
    "## 4. Stabiliteit van elementaire berekeningen\n",
    "\n",
    "Zoek het snijpunt tussen twee rechten met Cartesische vergelijkingen\n",
    "$$\\begin{cases}1.00 x + 3.50 y = 8.00\\\\ 2.01x + 7.00 y = 16.1\\end{cases}$$\n",
    "in een systeem met precisie 3. Gebruik enkel elementaire berekeningen (namelijk, $+, -, *, /$).\n",
    "Is er een verschil in numerieke stabiliteit als je eerst naar $x$ of eerst naar $y$ oplost?"
   ]
  },
  {
   "cell_type": "code",
   "execution_count": null,
   "metadata": {
    "collapsed": true
   },
   "outputs": [],
   "source": [
    "def solve_x_to_y(a1, b1, c1, a2, b2, c2):\n",
    "    pass ### CODE HERE ###\n",
    "\n",
    "def solve_y_to_x(a1, b1, c1, a2, b2, c2):  \n",
    "    pass ### CODE HERE ###"
   ]
  },
  {
   "cell_type": "code",
   "execution_count": null,
   "metadata": {},
   "outputs": [],
   "source": [
    "### TEST ###\n",
    "import numpy as np\n",
    "from decimal import *\n",
    "\n",
    "#Floating-point getallen\n",
    "a1 = Decimal(1.00); b1 = Decimal(3.50); c1 = Decimal(8.00)\n",
    "a2 = Decimal(2.01); b2 = Decimal(7.00); c2 = Decimal(16.1)\n",
    "\n",
    "#Zet precisie op 28 en bereken de (zo goed als) exacte waarde\n",
    "getcontext().prec = 28\n",
    "exact = np.array([Decimal(10.00000000000035527136788006), Decimal(-0.57142857142867293467653716)])\n",
    "\n",
    "#Zet precisie op 3 en los op van x naar y en van y naar x.\n",
    "#De coefficienten hebben dus invoerfout.\n",
    "getcontext().prec = 3\n",
    "approx_xy = np.array(solve_x_to_y(a1,b1,c1,a2,b2,c2))\n",
    "approx_yx = np.array(solve_y_to_x(a1,b1,c1,a2,b2,c2))\n",
    "\n",
    "#Bereken de relatieve fout tussen de benadering en de exacte waarde voor beide algoritmen\n",
    "getcontext().prec = 28\n",
    "print(\"Exact solution:\", tuple(map(float, exact)))\n",
    "print(\"Error x to y: \", np.linalg.norm(approx_xy - exact) / np.linalg.norm(exact))\n",
    "print(\"Error y to x: \", np.linalg.norm(approx_yx - exact) / np.linalg.norm(exact))"
   ]
  }
 ],
 "metadata": {
  "kernelspec": {
   "display_name": "Python 3 (ipykernel)",
   "language": "python",
   "name": "python3"
  },
  "language_info": {
   "codemirror_mode": {
    "name": "ipython",
    "version": 3
   },
   "file_extension": ".py",
   "mimetype": "text/x-python",
   "name": "python",
   "nbconvert_exporter": "python",
   "pygments_lexer": "ipython3",
   "version": "3.10.9"
  },
  "vscode": {
   "interpreter": {
    "hash": "08c1eb5edf5990a2140fef37f2452a52e1f85561a0cc76e440ed4e172465daac"
   }
  }
 },
 "nbformat": 4,
 "nbformat_minor": 1
}
