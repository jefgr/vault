{
 "cells": [
  {
   "cell_type": "markdown",
   "metadata": {},
   "source": [
    "# Sessie 1 - Introductie\n",
    "\n",
    "Als een introductiesessie zullen we wat simpele oefeningen maken rond enkele basisstellingen en -begrippen om deze op te frissen en kennis te maken met de notebooks.\n",
    "\n",
    "Voer de onderstaande code uit om de nodige libraries in te laden.\n",
    "Je kan natuurlijk op ieder moment zelf libraries importeren om een probleem op te lossen."
   ]
  },
  {
   "cell_type": "code",
   "metadata": {
    "ExecuteTime": {
     "end_time": "2025-02-27T09:37:43.317802Z",
     "start_time": "2025-02-27T09:37:41.912437Z"
    }
   },
   "source": [
    "%matplotlib inline\n",
    "\n",
    "import os\n",
    "import math # native\n",
    "import matplotlib.pyplot as plt # te installeren\n",
    "import numpy as np # te installeren\n",
    "from scipy import misc # te installeren\n",
    "\n",
    "def plot_errors(n, err):\n",
    "    plt.plot(n, err)\n",
    "    plt.xlabel('n')\n",
    "    plt.ylabel('error')\n",
    "    plt.show()"
   ],
   "outputs": [
    {
     "name": "stderr",
     "output_type": "stream",
     "text": [
      "C:\\Users\\jefgr\\AppData\\Local\\Temp\\ipykernel_3124\\3344802694.py:7: DeprecationWarning: scipy.misc is deprecated and will be removed in 2.0.0\n",
      "  from scipy import misc # te installeren\n"
     ]
    }
   ],
   "execution_count": 1
  },
  {
   "cell_type": "markdown",
   "metadata": {},
   "source": [
    "## 1. Algoritme van Horner\n",
    "\n",
    "Schrijf een programma die een veelterm\n",
    "$$p(x) = a_0 + a_1x + a_2x^2 + \\cdots + a_nx^n$$\n",
    "evalueert. Gebruik hiervoor het algoritme van Horner (https://en.wikipedia.org/wiki/Horner%27s_method). Dit is het algoritme die het minst aantal bewerkingen gebruikt (in dit geval $2n$)."
   ]
  },
  {
   "cell_type": "code",
   "metadata": {
    "ExecuteTime": {
     "end_time": "2025-02-27T09:39:56.345689Z",
     "start_time": "2025-02-27T09:39:56.336432Z"
    }
   },
   "source": [
    "def horner(a, x):\n",
    "    \"\"\"\n",
    "    Evalueer een veelterm in punt x. \n",
    "    \n",
    "    Voorbeeld\n",
    "    ---------\n",
    "    \n",
    "    b[0] = a[-1]\n",
    "    b[1] = a[-2] + b[0]x\n",
    "    b[2] = a[-3] + b[1]x\n",
    "    ...\n",
    "    \n",
    "    Parameters\n",
    "    ----------\n",
    "    a: numpy.array of python list\n",
    "        Bevat de coefficienten van de veelterm. Opgelet: Deze implementatie vereist dat de coefficienten\n",
    "        geordend zijn van lage naar hoge order, m.a.w a0, a1, a2, ... , an.\n",
    "    x: int of float\n",
    "        Punt waarin de functie geevalueerd moet worden.\n",
    "    \n",
    "    Raises\n",
    "    ------\n",
    "    None\n",
    "    \n",
    "    Returns\n",
    "    -------\n",
    "    b: float\n",
    "        Waarde van veelterm in punt x.\n",
    "    \"\"\"\n",
    "    def iter (index):\n",
    "        if index < len(a):\n",
    "            return a[index] + x * (iter(index+1))\n",
    "        else:\n",
    "            return 0\n",
    "\n",
    "    return iter(0)\n",
    "\n",
    "\"\"\"\n",
    "klasoplossing:\n",
    "\n",
    "b = a[-1]\n",
    "\n",
    "for n in range(len(a) -2, -1, -1):\n",
    "    b = a[n] + b*x\n",
    "\n",
    "return b\n",
    "\n",
    "\"\"\""
   ],
   "outputs": [
    {
     "data": {
      "text/plain": [
       "'\\nklasoplossing:\\n\\nb = a[-1]\\n\\nfor n in range(len(a) -2, -1, -1):\\n    b = a[n] + b*x\\n\\nreturn b\\n\\n'"
      ]
     },
     "execution_count": 4,
     "metadata": {},
     "output_type": "execute_result"
    }
   ],
   "execution_count": 4
  },
  {
   "cell_type": "code",
   "metadata": {
    "ExecuteTime": {
     "end_time": "2025-02-27T09:39:58.327710Z",
     "start_time": "2025-02-27T09:39:58.323831Z"
    }
   },
   "source": [
    "### TEST ###\n",
    "a = np.array([-1, 2, -6, 2])\n",
    "x = 3\n",
    "print(horner(a, x)) #should be equal to 5"
   ],
   "outputs": [
    {
     "name": "stdout",
     "output_type": "stream",
     "text": [
      "5\n"
     ]
    }
   ],
   "execution_count": 5
  },
  {
   "cell_type": "markdown",
   "metadata": {},
   "source": [
    "## 2. Taylorexpansie\n",
    "\n",
    "Maak gebruik van de stelling van Taylor om de functie $e^x$ te benaderen."
   ]
  },
  {
   "cell_type": "code",
   "metadata": {
    "ExecuteTime": {
     "end_time": "2025-02-27T09:44:39.714909Z",
     "start_time": "2025-02-27T09:44:39.708559Z"
    }
   },
   "source": [
    "def taylor_exp(x, n):\n",
    "    \n",
    "    \"\"\"\n",
    "    Benader f(x) = e^x tot en met de n-de afgeleide in de Taylorexpansie. Aangezien er geen a meegegeven kan \n",
    "    worden als parameter mag u er vanuitgaan dat a = 0. Het gaat hier met andere woorden om een MacLaurin \n",
    "    expansie.\n",
    "    \n",
    "    Voorbeeld\n",
    "    ---------\n",
    "    First order approx.: y = x^0 / 0! + x^1 / 1!\n",
    "    Second order approx.: y = x^0 / 0! + x^1 / 1! + x^2 / 2!\n",
    "    ...\n",
    "    \n",
    "    Parameters\n",
    "    ----------\n",
    "    x: int or float\n",
    "        Point in which the approximation needs to be evaluated.\n",
    "    n: int\n",
    "        Order of the approximation.\n",
    "    \n",
    "    Raises\n",
    "    ------\n",
    "    None\n",
    "    \n",
    "    Returns\n",
    "    -------\n",
    "    y: float\n",
    "        The value corresponding to the approximation evaluated in point x.\n",
    "    \"\"\"\n",
    "    result = 0\n",
    "    for i in range(n+1):\n",
    "        result = result + x**i / math.factorial(i)\n",
    "\n",
    "    return result"
   ],
   "outputs": [],
   "execution_count": 6
  },
  {
   "cell_type": "code",
   "metadata": {
    "ExecuteTime": {
     "end_time": "2025-02-27T09:57:04.697776Z",
     "start_time": "2025-02-27T09:57:04.613191Z"
    }
   },
   "source": [
    "#TEST\n",
    "x = 2\n",
    "n = range(10)\n",
    "errors = [abs(taylor_exp(x, i) - math.exp(x)) for i in n]\n",
    "plot_errors(n, errors)"
   ],
   "outputs": [
    {
     "data": {
      "text/plain": [
       "<Figure size 640x480 with 1 Axes>"
      ],
      "image/png": "[encoded data removed]"
     },
     "metadata": {},
     "output_type": "display_data"
    }
   ],
   "execution_count": 9
  },
  {
   "cell_type": "markdown",
   "metadata": {},
   "source": [
    "## 3. Gram-Schmidt Orthogonalisatie\n",
    "\n",
    "Gegeven een basis $V \\in \\mathbb{R}^{n \\times n}$ voor een ruimte $\\mathbb{R}^n$, implementeer Gram-Schmidt om een orthogonale basis $Q \\in \\mathbb{R}^{n \\times n}$ te vinden voor diezelfde ruimte."
   ]
  },
  {
   "cell_type": "code",
   "metadata": {
    "ExecuteTime": {
     "end_time": "2025-02-27T10:11:36.611748Z",
     "start_time": "2025-02-27T10:11:36.606206Z"
    }
   },
   "source": [
    "def gram_schmidt(V):\n",
    "    \n",
    "    \"\"\"\n",
    "    Berekent een orthogonale basis voor dezelfde ruimte gedefinieerd door de basis V. \n",
    "    De eerste vector van Q komt overeen met die van V. De nieuwe ruimte wordt iteratief\n",
    "    opgebouwd. \n",
    "    \n",
    "    Voorbeeld\n",
    "    ---------\n",
    "    q[0] = v[0]\n",
    "    q[1] = v[1] - q'[0]v[1] / q'[0]q[0] * q[0]\n",
    "    q[2] = v[2] - q'[0]v[2] / q'[0]q[0] * q[0] - q'[1]v[2] / q'[1]q[1] * q[1]\n",
    "    ...\n",
    "    \n",
    "    Parameters\n",
    "    ----------\n",
    "    V: list of numpy arrays\n",
    "        Bevat de oorspronkelijke basis V.\n",
    "    \n",
    "    Raises\n",
    "    ------\n",
    "    None\n",
    "    \n",
    "    Returns\n",
    "    -------\n",
    "    Q: list of numpy arrays\n",
    "        Bevat de nieuwe orthogonale basis Q die dezelfde ruimte definieert als V.\n",
    "    \"\"\"\n",
    "    q = []\n",
    "    for i in range(len(V)):\n",
    "        som = V[i]\n",
    "        for j in range(i):\n",
    "            som = np.add(som, -(((np.dot(q[j], V[i]))/(np.dot(q[j], q[j]))) * q[j]))\n",
    "        q.append(som)\n",
    "    return q"
   ],
   "outputs": [],
   "execution_count": 14
  },
  {
   "cell_type": "code",
   "metadata": {
    "ExecuteTime": {
     "end_time": "2025-02-27T10:46:41.600805Z",
     "start_time": "2025-02-27T10:46:41.592374Z"
    }
   },
   "source": [
    "# alternatieve implementatie met python list comprehensions\n",
    "# list comprehensions zullen in de komende WPOs vaker en vaker gebruikt worden\n",
    "def gram_schmidt_python_listcomprehension(V):\n",
    "    \"\"\"\n",
    "    Bereken een orthogonale basis voor dezelfde ruimte gedefinieerd door de basis V.\n",
    "    \"\"\"\n",
    "    q = [V[0]]\n",
    "    for i in range(1, len(V)):\n",
    "        q.append( np.add(V[i], np.add.reduce([-(((np.dot(q[j], V[i]))/(np.dot(q[j], q[j]))) * q[j]) for j in range(i)])))\n",
    "    return q"
   ],
   "outputs": [],
   "execution_count": 33
  },
  {
   "cell_type": "code",
   "metadata": {
    "ExecuteTime": {
     "end_time": "2025-02-27T10:46:43.410605Z",
     "start_time": "2025-02-27T10:46:43.403076Z"
    }
   },
   "source": [
    "#TEST\n",
    "V = [np.array([4, -3, -2]),  #v1\n",
    "     np.array([2,  3,  2]),  #v2\n",
    "     np.array([5,  7,  8])   #v3\n",
    "    ]\n",
    "print('<v[0], v[1]> = ' + str(np.dot(V[0], V[1])))\n",
    "print('<v[0], v[2]> = ' + str(np.dot(V[0], V[2])))\n",
    "print('<v[1], v[2]> = ' + str(np.dot(V[1], V[2])))\n",
    "\n",
    "Q = gram_schmidt(V)\n",
    "print('\\n<q[0], q[1]> = ' + str(np.dot(Q[0], Q[1])))\n",
    "print('<q[0], q[2]> = ' + str(np.dot(Q[0], Q[2])))\n",
    "print('<q[1], q[2]> = ' + str(np.dot(Q[1], Q[2])))"
   ],
   "outputs": [
    {
     "name": "stdout",
     "output_type": "stream",
     "text": [
      "<v[0], v[1]> = -5\n",
      "<v[0], v[2]> = -17\n",
      "<v[1], v[2]> = 47\n",
      "\n",
      "<q[0], q[1]> = -4.440892098500626e-16\n",
      "<q[0], q[2]> = 1.7763568394002505e-15\n",
      "<q[1], q[2]> = 3.552713678800501e-15\n"
     ]
    }
   ],
   "execution_count": 34
  },
  {
   "cell_type": "code",
   "metadata": {
    "ExecuteTime": {
     "end_time": "2025-02-27T10:46:45.474570Z",
     "start_time": "2025-02-27T10:46:45.468482Z"
    }
   },
   "source": [
    "#TEST\n",
    "V = [np.array([4, -3, -2]),  #v1\n",
    "     np.array([2,  3,  2]),  #v2\n",
    "     np.array([5,  7,  8])   #v3\n",
    "    ]\n",
    "print('<v[0], v[1]> = ' + str(np.dot(V[0], V[1])))\n",
    "print('<v[0], v[2]> = ' + str(np.dot(V[0], V[2])))\n",
    "print('<v[1], v[2]> = ' + str(np.dot(V[1], V[2])))\n",
    "\n",
    "Q = gram_schmidt_python_listcomprehension(V)\n",
    "print('\\n<q[0], q[1]> = ' + str(np.dot(Q[0], Q[1])))\n",
    "print('<q[0], q[2]> = ' + str(np.dot(Q[0], Q[2])))\n",
    "print('<q[1], q[2]> = ' + str(np.dot(Q[1], Q[2])))"
   ],
   "outputs": [
    {
     "name": "stdout",
     "output_type": "stream",
     "text": [
      "<v[0], v[1]> = -5\n",
      "<v[0], v[2]> = -17\n",
      "<v[1], v[2]> = 47\n",
      "\n",
      "<q[0], q[1]> = -4.440892098500626e-16\n",
      "<q[0], q[2]> = -1.7763568394002505e-15\n",
      "<q[1], q[2]> = 1.3322676295501878e-15\n"
     ]
    }
   ],
   "execution_count": 35
  },
  {
   "cell_type": "code",
   "metadata": {
    "ExecuteTime": {
     "end_time": "2025-02-27T10:31:01.855698Z",
     "start_time": "2025-02-27T10:31:01.846972Z"
    }
   },
   "source": [
    "np.dot(Q[1], Q[2])"
   ],
   "outputs": [
    {
     "data": {
      "text/plain": [
       "np.float64(1.3322676295501878e-15)"
      ]
     },
     "execution_count": 32,
     "metadata": {},
     "output_type": "execute_result"
    }
   ],
   "execution_count": 32
  },
  {
   "attachments": {},
   "cell_type": "markdown",
   "metadata": {
    "collapsed": true
   },
   "source": [
    "## 4. Stelling van Rayleigh\n",
    "\n",
    "Gegeven de matrix $A$\n",
    "$$A = \\begin{pmatrix}\n",
    "−2 & −2 & 4\\\\\n",
    "−4 & 1 & 2\\\\\n",
    "2 & 2 & 5\n",
    "\\end{pmatrix}$$\n",
    "met grootste eigenwaarde $\\lambda_1 = 6$\n",
    "\n",
    "Schrijf een programma dat de bijhorende eigenvector $x_1$ benadert, gebruikmakend van de stelling van Rayleigh.\n",
    "\n",
    "Extra vraag: geldt de stelling van Rayleigh voor deze matrix gegarandeerd?"
   ]
  },
  {
   "cell_type": "code",
   "metadata": {
    "ExecuteTime": {
     "end_time": "2025-02-27T11:01:17.803122Z",
     "start_time": "2025-02-27T11:01:17.797887Z"
    }
   },
   "source": [
    "def rayleigh(M, x0, eigval, n):\n",
    "    \"\"\"\n",
    "    Gegeven een matrix M met grootste eigenwaarde 'eigval', benader de geassocieerde eigenvector x. (x0.x != 0)\n",
    "    \n",
    "    Parameters\n",
    "    ----------\n",
    "    M: numpy matrix\n",
    "        Is de matrix waarvan eigval de grootste eigenwaarde is.\n",
    "    x0: numpy matrix\n",
    "        Is de vector vanwaaruit de benadering vertrekt.\n",
    "    eigval: int\n",
    "        Is de grootste eigenwaarde van de matrix M.\n",
    "    n: int\n",
    "        Is het aantal maal dat x0 vermenigvuldigd moet worden met M/eigval. Hoe hoger dit getal, hoe beter de \n",
    "        benadering.\n",
    "    \n",
    "    Raises\n",
    "    ------\n",
    "    None\n",
    "    \n",
    "    Returns\n",
    "    -------\n",
    "    x1: numpy matrix\n",
    "        Is de benadering van de eigenvector die hoort bij de grootste eigenwaarde.\n",
    "    \"\"\"\n",
    "\n",
    "    # Klasoplossing\n",
    "    x1 = (M / eigval) ** n * x0\n",
    "    x1 = x1 / np.linalg.norm(x1)\n",
    "    return x1"
   ],
   "outputs": [],
   "execution_count": 40
  },
  {
   "cell_type": "code",
   "metadata": {
    "ExecuteTime": {
     "end_time": "2025-02-27T11:01:20.264691Z",
     "start_time": "2025-02-27T11:01:20.176071Z"
    }
   },
   "source": [
    "#TEST\n",
    "A = np.asmatrix([[-2, -2, 4],\n",
    "                 [-4,  1, 2],\n",
    "                 [ 2,  2, 5]])\n",
    "eigval = 6\n",
    "x0 = np.asmatrix([[1, 2, 3]]).transpose()\n",
    "n = range(50)\n",
    "\n",
    "errors = []\n",
    "for i in n:\n",
    "    x1 = rayleigh(A, x0, eigval, i)\n",
    "    errors.append(np.linalg.norm(A*x1 - eigval*x1)) #A*x = eigval*x\n",
    "plot_errors(n, errors)"
   ],
   "outputs": [
    {
     "data": {
      "text/plain": [
       "<Figure size 640x480 with 1 Axes>"
      ],
      "image/png": "[encoded data removed]"
     },
     "metadata": {},
     "output_type": "display_data"
    }
   ],
   "execution_count": 41
  }
 ],
 "metadata": {
  "kernelspec": {
   "display_name": "tabular-dataset-gen",
   "language": "python",
   "name": "python3"
  },
  "language_info": {
   "codemirror_mode": {
    "name": "ipython",
    "version": 3
   },
   "file_extension": ".py",
   "mimetype": "text/x-python",
   "name": "python",
   "nbconvert_exporter": "python",
   "pygments_lexer": "ipython3",
   "version": "3.12.7"
  }
 },
 "nbformat": 4,
 "nbformat_minor": 1
}
