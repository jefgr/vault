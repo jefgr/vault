{
 "cells": [
  {
   "attachments": {},
   "cell_type": "markdown",
   "metadata": {},
   "source": [
    "# Sessie 8 - Lineair Programmeren"
   ]
  },
  {
   "attachments": {},
   "cell_type": "markdown",
   "metadata": {},
   "source": [
    "## PuLP installatie\n",
    "\n",
    "In dit WPO hebben jullie de package PuLP nodig. \n",
    "\n",
    "Om PulP (en de andere dependencies) te installeren in je default environment:<br>\n",
    "- Open je default Terminal of Ananaconda Prompt (indien je Anaconda Navigator gebruikt)\n",
    "- `pip install pulp`\n",
    "- open dit notebook\n",
    "\n",
    "PuLP documentatie: https://www.coin-or.org/PuLP/pulp.html\n",
    "\n",
    "Andere mogelijke dependencies:\n",
    "- `pandas`\n",
    "- `matplotlib`\n",
    "\n",
    "Indien je een 'Cannot execute cbc ...' error krijgt:\n",
    "- Op Windows en Linux: `conda install conda-forge::coincbc`\n",
    "- Op MacOS: `brew install cbc`"
   ]
  },
  {
   "cell_type": "code",
   "execution_count": null,
   "metadata": {},
   "outputs": [],
   "source": [
    "%run visualise.py\n",
    "%matplotlib inline\n",
    "\n",
    "import pulp\n",
    "import pandas as pd"
   ]
  },
  {
   "attachments": {},
   "cell_type": "markdown",
   "metadata": {},
   "source": [
    "## 1. Inconsistente tijdsallocatie\n",
    "\n",
    "Het einde van de examens is nabij, en je hebt nog 2 examens af te leggen: Software Engineering en Wetenschappelijk Rekenen.\n",
    "Je hebt de volgende tijdsallocatie opgesteld die nodig is om met zekerheid te slagen voor alle examens.\n",
    "            \n",
    "<table>\n",
    "  <tr>\n",
    "    <td><b>Cursus</b></td>\n",
    "    <td><b>Tijd nodig</b></td>\n",
    "  </tr>\n",
    "  <tr>\n",
    "    <td>SE hoc</td>\n",
    "    <td>12</td>\n",
    "  </tr>\n",
    "  <tr>\n",
    "    <td>SE wpo</td>\n",
    "    <td>8</td>\n",
    "  </tr>\n",
    "  <tr>\n",
    "    <td>WR hoc</td>\n",
    "    <td>28</td>\n",
    "  </tr>\n",
    "  <tr>\n",
    "    <td>WR wpo</td>\n",
    "    <td>19</td>\n",
    "  </tr>\n",
    "  <tr>\n",
    "    <td>Eten, douchen, slapen</td>\n",
    "    <td>34</td>\n",
    "  </tr>\n",
    "</table>\n",
    "\n",
    "Het probleem is dat je maar <i>67 uur</i> over hebt om alles in te studeren, waardoor je genoodzaakt bent om overal een beetje tijd weg te nemen.\n",
    "\n",
    "Neem overal evenveel tijd weg, behalve voor:\n",
    "\n",
    "* <i>Eten, douchen, slapen</i>: Deze taken zijn minder belangrijk tijdens de examens, dus je kan 2 keer zoveel tijd wegnemen als bij de andere.\n",
    "* <i>WR hoc</i>: Je hebt je tijd nodig voor dit deel, dus neem geen tijd weg.\n",
    "\n",
    "Zoek nu een nieuwe tijdsallocatie die de deadline respecteert."
   ]
  },
  {
   "cell_type": "code",
   "execution_count": null,
   "metadata": {},
   "outputs": [],
   "source": [
    "### 1. Problem ###\n",
    "prob = pulp.LpProblem(\"Time_allocation\", pulp.LpMinimize)\n",
    "\n",
    "### 2. Variables ###\n",
    "## Positive hours\n",
    "SEhoc = pulp.LpVariable(\"SEhoc\", cat=\"Continuous\", lowBound=0)   # Create a continuous variable SEhoc >= 0 \n",
    "SEwpo = pulp.LpVariable(\"SEwpo\", cat=\"Continuous\", lowBound=0)   # Create a continuous variable SEwpo >= 0 \n",
    "WRhoc = pulp.LpVariable(\"WRhoc\", cat=\"Continuous\", lowBound=0)   # Create a continuous variable WRhoc >= 0 \n",
    "WRwpo = pulp.LpVariable(\"WRwpo\", cat=\"Continuous\", lowBound=0)   # Create a continuous variable WRwpo >= 0 \n",
    "Misc = pulp.LpVariable(\"Misc\", cat=\"Continuous\", lowBound=0)   # Create a continuous variable Misc >= 0 \n",
    "Residue = pulp.LpVariable(\"Residue\", cat=\"Continuous\", lowBound=0)   # Create a continuous variable Residue >= 0 "
   ]
  },
  {
   "cell_type": "code",
   "execution_count": null,
   "metadata": {},
   "outputs": [],
   "source": [
    "### 3. Objective ###\n",
    "prob += Residue\n",
    "  \n",
    "### 4. Constraints ###\n",
    "## Time necessary per course (with residuals)\n",
    "prob += SEhoc == 12 - Residue\n",
    "prob += SEwpo == 8 - Residue\n",
    "prob += WRhoc == 28\n",
    "prob += WRwpo == 19 - Residue\n",
    "prob += Misc == 34 - 2*Residue\n",
    "## Deadline\n",
    "prob += SEhoc + SEwpo + WRhoc + WRwpo + Misc <= 67"
   ]
  },
  {
   "cell_type": "code",
   "execution_count": null,
   "metadata": {},
   "outputs": [],
   "source": [
    "# Display the problem\n",
    "print(prob) \n",
    "    \n",
    "solver = pulp.getSolver('COIN_CMD')\n",
    "status = prob.solve(solver)    # Solver "
   ]
  },
  {
   "cell_type": "code",
   "execution_count": null,
   "metadata": {},
   "outputs": [],
   "source": [
    "print(\"======> Solver Status\", pulp.LpStatus[status])   # The solution status \n",
    "print(\"====> Following solution was found:\")\n",
    "print(f\"Software Engineering HOC: {pulp.value(SEhoc)}\")\n",
    "print(f\"Software Engineering WPO: {pulp.value(SEwpo)}\")\n",
    "print(f\"Wetenschappelijk Rekenen HOC: {pulp.value(WRhoc)}\")\n",
    "print(f\"Wetenschappelijk Rekenen WPO: {pulp.value(WRwpo)}\")\n",
    "print(f\"Eten, douchen, slapen: {pulp.value(Misc)}\")\n",
    "print(f\"===> Minimized residue: {pulp.value(prob.objective)}\")"
   ]
  },
  {
   "attachments": {},
   "cell_type": "markdown",
   "metadata": {},
   "source": [
    "Alternatief kan je ook de oplossing vereenvoudigen op de volgende manier."
   ]
  },
  {
   "cell_type": "code",
   "execution_count": null,
   "metadata": {},
   "outputs": [],
   "source": [
    "### 1. Problem ###\n",
    "prob = pulp.LpProblem(\"Time_allocation\", pulp.LpMinimize)\n",
    "\n",
    "### 2. Variables ###\n",
    "## X = amount of hours removed\n",
    "X = pulp.LpVariable(\"X\", cat=\"Continuous\", lowBound=0)\n",
    "  \n",
    "### 3. Constraints ###\n",
    "prob += (12-X) + (8-X) + 28 + (19-X) + (34-2*X) <= 67 # dus 5*X >= 34\n",
    "\n",
    "### 4. Objective ###\n",
    "# not necessary for this exercise\n",
    "# but it is required for PuLP to set the value of the prob.objective\n",
    "prob += X\n",
    "\n",
    "# Display the problem\n",
    "print(prob) \n",
    "    \n",
    "solver = pulp.getSolver('COIN_CMD')\n",
    "status = prob.solve(solver)    # Solver \n",
    "\n",
    "print(f\"Hours removed from each (2X for eating, drinking etc.): {pulp.value(X)}\")\n",
    "print(f\"===> Objective: {pulp.value(prob.objective)}\")"
   ]
  },
  {
   "cell_type": "markdown",
   "metadata": {},
   "source": [
    "## 2. Mixed products\n",
    "\n",
    "<i>The ABC Drug Company makes two types of liquid painkiller that have brand names Relieve (R) and Ease (E) and contain different mixtures of three basic drugs, A, B and C, produced by the company. Each bottle of R requires $\\frac{7}{9}$ units of drug A, $\\frac{1}{2}$ units of drug B, and $\\frac{3}{4}$ units of drug C. Each bottle of E requires $\\frac{4}{9}$ units of drug A, $\\frac{5}{2}$ units of drug B, and $\\frac{1}{4}$ units of drug C. The company is able to produce each day only 5 units of drug A, 7 units of drug B, and 9 units of C. Moreover, Food and Drug Administration regulations stipulate that the number of bottles of R manufactured cannot exceed twice the number of bottles of E. The profit margin for each bottle of E and R is 7 euros and 3 euros, respectively. Maximize the owner's profit.</i>"
   ]
  },
  {
   "cell_type": "markdown",
   "metadata": {},
   "source": [
    "Analyseer elke zin apart en identificeer: (i) wat proberen te minimaliseren/maximaliseren, (ii) de variabelen en (iii) de constraints."
   ]
  },
  {
   "cell_type": "markdown",
   "metadata": {},
   "source": [
    "The ABC Drug Company makes two types of liquid painkiller that have brand names Relieve (R) and Ease (E). ;; variable declaration\n",
    "\n",
    "They contain different mixtures of three basic drugs, A, B and C, produced by the company. \n",
    "\n",
    "Each bottle of R requires\n",
    "- $\\frac{7}{9}$ units of drug A, \n",
    "- $\\frac{1}{2}$ units of drug B, and\n",
    "- $\\frac{3}{4}$ units of drug C. \n",
    "\n",
    "Each bottle of E requires \n",
    "- $\\frac{4}{9}$ units of drug A, \n",
    "- $\\frac{5}{2}$ units of drug B, and \n",
    "- $\\frac{1}{4}$ units of drug C. \n",
    "\n",
    "The company is able to produce each day only 5 units of drug A, 7 units of drug B, and 9 units of C. ;; constraint 1\n",
    "\n",
    "Moreover, Food and Drug Administration regulations stipulate that the number of bottles of R manufactured cannot exceed twice the number of bottles of E. ;; constraint 2\n",
    "\n",
    "The profit margin for each bottle of E and R is 7 euros and 3 euros, respectively. ;; objective function\n",
    "\n",
    "Maximize the owner's profit. ;; objective declaration"
   ]
  },
  {
   "cell_type": "code",
   "execution_count": null,
   "metadata": {},
   "outputs": [],
   "source": [
    "### 1. Problem definition ###\n",
    "prob = pulp.LpProblem(\"mixed_products\", pulp.LpMaximize)\n",
    "\n",
    "### 2. Variable declaration ###\n",
    "## Positive integer number of products\n",
    "R = pulp.LpVariable(\"R\", cat=\"Integer\", lowBound=0)   # Create an integer variable R >= 0 \n",
    "E = pulp.LpVariable(\"E\", cat=\"Integer\", lowBound=0)   # Create an integer variable E >= 0 "
   ]
  },
  {
   "cell_type": "code",
   "execution_count": null,
   "metadata": {},
   "outputs": [],
   "source": [
    "### 3. Objective ###\n",
    "prob += 3*R + 7*E # profit margins\n",
    "prob += R <= 2*E\n",
    "  \n",
    "### 4. Constraints ###\n",
    "## Recipes for products (R & E should appear together in one constraint, \n",
    "##   otherwise you can use the same amount units in multiple bottles)\n",
    "prob += 7/9*R + 4/9*E <= 5 # A\n",
    "prob += 1/2*R + 5/2*E <= 7 # B\n",
    "prob += 3/4*R + 1/4*E <= 9 # C\n",
    "## Food and Drugs Administration rule\n",
    "prob += R <= 2*E"
   ]
  },
  {
   "cell_type": "code",
   "execution_count": null,
   "metadata": {},
   "outputs": [],
   "source": [
    "# Display the problem \n",
    "print(prob)\n",
    "    \n",
    "solver = pulp.getSolver('COIN_CMD')\n",
    "status = prob.solve(solver)    # Solver \n",
    "print(pulp.LpStatus[status])   # The solution status \n",
    "  \n",
    "# Printing the final solution \n",
    "print(pulp.value(R), pulp.value(E), pulp.value(prob.objective))"
   ]
  },
  {
   "attachments": {},
   "cell_type": "markdown",
   "metadata": {},
   "source": [
    "## 3. Job shop scheduling problemen\n",
    "\n",
    "\n",
    "Operationeel onderzoek (operations research) richt zich op de ontwikkeling en toepassing van analytische methodes om beslissingsprocessen te verbeteren en te optimaliseren.\n",
    "\n",
    "In deze sessie onderzoeken we een job-shop scheduling probleem. De job shop bestaat uit een set van machines. Een job bestaat uit een set van taken. \\\n",
    "Elke machine kan een bepaalde set van taken uitvoeren. De tijd om een bepaalde taak uit te voeren op een bepaalde machine is gekend. \\\n",
    "Het doel is om de jobs zo snel mogelijk uit te voeren door de jobs op een efficiënte manier in te plannen op de machines. \\\n",
    "De totale tijd om alle jobs uit te voeren noemt men de <em>makespan</em>.\n",
    "\n",
    "Vandaag is job-shop scheduling een belangrijke tool voor fabrikanten die de efficiëntie van hun productieprocessen willen verhogen en de verspilling binnen hun productieprocessen wensen te elimineren.\n",
    "\n",
    "### De printing press\n",
    "\n",
    "Deze oefening komt van Christelle Gueret, Christian Prins, Marc Sevaux, \"Applications of Optimization with Xpress-MP,\" Dash Optimization, 2000. \n",
    "\n",
    "In dit voorbeeld zijn er drie producten ($Paper_{1}, Paper_{2}, Paper_{3}$). Elk product stelt een job voor dat bestaat uit 1 of meer deeltaken. \\\n",
    "In dit probleem moeten de papers door een of meerdere drukpersen. Het volgende diagram beschrijft de volgorde in het productieproces van elk product. \\\n",
    "Bijvoorbeeld $Paper_{3}$ gaat eerst door de gele machine. Daarna dient het resultaat van deze taak als input voor de blauwe machine. Ten laatste gaat de paper door de groene machine.\n",
    "\n",
    "![Drag Racing](ex3-diagram.jpeg)\n",
    "\n",
    "De volgende tabel beschrijft de tijd vereist om een gegeven job uit te voeren op een gegeven machine.\n",
    "\n",
    "| Machine | Color | Paper 1 | Paper 2 | Paper 3| \n",
    "| :--- | :----:   | :----: | :----: |  ---: |\n",
    "| 1    | Green    | -  | 10 | 17|\n",
    "| 2    | Blue     | 45 | 20 | 12|\n",
    "| 3    | Yellow   | 10 | 34 | 28|\n",
    "\n",
    "Formuleer een model om de makespan van dit probleem te minimaliseren. Let op het feit dat niet alle papers alle machines vereisen."
   ]
  },
  {
   "cell_type": "code",
   "execution_count": null,
   "metadata": {},
   "outputs": [],
   "source": [
    "# amount of machines and jobs\n",
    "machines = 3\n",
    "jobs = 3\n",
    "\n",
    "# sequence of tasks for a job\n",
    "machine_sequence = [[1, 2],    # paper 1: Blue => Yellow\n",
    "                    [0, 1, 2], # paper 2: Green => Blue => Yellow\n",
    "                    [2, 1, 0]] # paper 3: Yellow => Blue => Green\n",
    "                     \n",
    "# duration of a task (a pair of a job j and machine m)\n",
    "dur = [[None, 45, 10],\n",
    "        [10, 20, 34],\n",
    "        [17, 12, 28]]"
   ]
  },
  {
   "cell_type": "code",
   "execution_count": null,
   "metadata": {},
   "outputs": [],
   "source": [
    "### 1. Model definition ###\n",
    "model = pulp.LpProblem(name=\"printing_press\", sense=pulp.LpMinimize)\n",
    "\n",
    "### 2. Helper variables ###\n",
    "# all job-machine pairs \n",
    "valid_starts = []\n",
    "for j in range(jobs):\n",
    "    for m in machine_sequence[j]:\n",
    "        valid_starts.append((j, m))\n",
    "\n",
    "# all job-job pairs that compete for the same machine\n",
    "jjm = []\n",
    "for j1 in range(jobs):\n",
    "    for j2 in range(jobs):\n",
    "        for m in range(machines):\n",
    "            if j1 != j2 and \\\n",
    "               (j1, m) in valid_starts and \\\n",
    "               (j2, m) in valid_starts:\n",
    "                jjm.append((j1, j2, m))\n",
    "\n",
    "# choose Big-M as the horizon of the makespan (i.e., if all tasks are ran sequentially)\n",
    "# big-m reformulation: https://optimization.cbe.cornell.edu/index.php?title=Disjunctive_inequalities\n",
    "# Niet te kennen voor examen, wel nodig voor dit probleem omdat pulp geen disjunctive constraints ondersteunt)\n",
    "M = 0\n",
    "for j in range(jobs):\n",
    "    for m in range(machines):\n",
    "        if dur[j][m] is not None:\n",
    "            M += dur[j][m]\n",
    "\n",
    "### 3. Variables ###\n",
    "# 1. makespan (our objective)\n",
    "obj = pulp.LpVariable(\"makespan\", lowBound=0, cat='Integer')\n",
    "# 2. start[j, m] - start time for job j on machine m\n",
    "start = pulp.LpVariable.dicts(\"start_time\", indexs=valid_starts, lowBound=0, cat='Integer')\n",
    "# 3. binary[j1, j2, m]\n",
    "#   whether job j1 precedes j2 on machine m\n",
    "#   enables us to express disjunctive constraints    \n",
    "binary = pulp.LpVariable.dicts(\"precedence\", indexs=jjm, cat='Binary')\n",
    "\n",
    "# put the objective into the model\n",
    "model += obj "
   ]
  },
  {
   "attachments": {},
   "cell_type": "markdown",
   "metadata": {},
   "source": [
    "Allereerst beschrijven we de verschillende constraints van dit probleem:\n",
    "- Geen enkele taak kan worden gestart voordat de vorige taak is voltooid.\n",
    "- Een machine kan slechts aan één taak tegelijk werken.\n",
    "- Eenmaal een taak gestart is, moet die worden voltooid."
   ]
  },
  {
   "cell_type": "code",
   "execution_count": null,
   "metadata": {},
   "outputs": [],
   "source": [
    "### 4. Constraints ###\n",
    "\n",
    "# constraint 1: the makespan\n",
    "for j, m in valid_starts:\n",
    "    # constrain the makespan ifo the start and duration times of all j,m pairs.\n",
    "    model += obj >= start[j, m] + dur[j][m]\n",
    "\n",
    "# constraint 2: enforce machine sequence\n",
    "for j in range(jobs):\n",
    "    for m_idx in range(1, len(machine_sequence[j])):\n",
    "        curr_m = machine_sequence[j][m_idx]\n",
    "        prev_m = machine_sequence[j][m_idx - 1]\n",
    "        model += start[j, curr_m] >= start[j, prev_m] + dur[j][prev_m]\n",
    "\n",
    "# constraint 3: only one active job at a time\n",
    "for j1, j2, m in jjm:\n",
    "    # disjunction with Big-M reformulation (niet te kennen voor examen)\n",
    "    # use binary variable to decide if a job j1 ends before j2 when binary[j1, j2, m] == 1, start[j2, m] >= end[j1, m]\n",
    "    # or vice-versa binary[j1, j2, m] == 0, start[j1, m] >= end[j2, m]\n",
    "    # we use M to make the right-hand side of the inactive constraint so large that it becomes irrelevant\n",
    "    #   if binary[j1, j2, m] == True, then the second constraint becomes irrelevant\n",
    "    #   if binary[j1, j2, m] == False, then the first constraint becomes irrelevant\n",
    "    model += start[j2, m] >= start[j1, m] + dur[j1][m] - (1-binary[j1, j2, m])*M\n",
    "    model += start[j1, m] >= start[j2, m] + dur[j2][m] - (  binary[j1, j2, m])*M\n",
    "    model += binary[j1, j2, m] + binary[j2, j1, m] == 1"
   ]
  },
  {
   "attachments": {},
   "cell_type": "markdown",
   "metadata": {},
   "source": [
    "Om de logische disjunctie uit te drukken kan men een grote M gebruiken samen met een binaire variabele constraints aan of uit te zetten.\n",
    "\n",
    "In een scheduling probleem kan je bijvoorbeeld een binaire variabele `binary` gebruiken om te beslissen of een job `j1` eerder eindigt dan een andere job `j2` als `binary=1` (of omgekeerd als `binary=0`). \n",
    "We gebruiken M om het rechterlid van de inactieve constraint zo groot te maken zodat het irrelevant wordt. We kiezen hierbij de waarde van M groot genoeg. In dit geval kiezen we M als de makespan indien je alle taken sequentieel zou uitvoeren."
   ]
  },
  {
   "cell_type": "code",
   "execution_count": null,
   "metadata": {},
   "outputs": [],
   "source": [
    "solver = pulp.getSolver('COIN_CMD')\n",
    "status = model.solve(solver)\n",
    "\n",
    "print(f\"======> Solver Status: {pulp.LpStatus[status]}\")\n",
    "print(f\"=====>  Minimal makespan: {model.objective.value()}\")"
   ]
  },
  {
   "attachments": {},
   "cell_type": "markdown",
   "metadata": {},
   "source": [
    "#### Visualising the job shop\n",
    "\n",
    "Ten laatste kunnen de gevonden schedule visualiseren aan de hand van een Gantt chart. De functie 'format_data_for_visualization' verwacht de variabelen 'start' en de durations 'dur'."
   ]
  },
  {
   "cell_type": "code",
   "execution_count": null,
   "metadata": {
    "scrolled": false
   },
   "outputs": [],
   "source": [
    "results = format_data_for_visualisation(start, dur)\n",
    "\n",
    "schedule = pd.DataFrame(results)\n",
    "print('\\nSchedule by Job')\n",
    "print(schedule.sort_values(by=['Job','Start']).set_index(['Job', 'Machine']))\n",
    "\n",
    "print('\\nSchedule by Machine')\n",
    "print(schedule.sort_values(by=['Machine','Start']).set_index(['Machine', 'Job']))\n",
    "\n",
    "visualize(results)"
   ]
  }
 ],
 "metadata": {
  "kernelspec": {
   "display_name": "wetrek",
   "language": "python",
   "name": "python3"
  },
  "language_info": {
   "codemirror_mode": {
    "name": "ipython",
    "version": 3
   },
   "file_extension": ".py",
   "mimetype": "text/x-python",
   "name": "python",
   "nbconvert_exporter": "python",
   "pygments_lexer": "ipython3",
   "version": "3.10.17"
  }
 },
 "nbformat": 4,
 "nbformat_minor": 1
}
