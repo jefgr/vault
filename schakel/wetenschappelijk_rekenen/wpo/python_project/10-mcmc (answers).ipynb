{
 "cells": [
  {
   "cell_type": "markdown",
   "metadata": {},
   "source": [
    "# Sessie 9 - MCMC"
   ]
  },
  {
   "cell_type": "markdown",
   "metadata": {},
   "source": [
    "Voer de onderstaande code uit."
   ]
  },
  {
   "cell_type": "code",
   "execution_count": null,
   "metadata": {},
   "outputs": [],
   "source": [
    "%matplotlib inline\n",
    "\n",
    "import numpy as np\n",
    "import matplotlib.pyplot as plt\n",
    "import pandas as pd\n",
    "import plotly.express as px\n",
    "import random\n",
    "import scipy.stats as st\n",
    "\n",
    "def plot_density(pdf, title=\"\"):\n",
    "    xs = np.linspace(0, 1, 1000)\n",
    "    plt.plot(xs, list(map(pdf, xs)), 'b')\n",
    "    plt.title(title);\n",
    "    plt.xlabel(\"Theta\");\n",
    "    plt.show()"
   ]
  },
  {
   "cell_type": "markdown",
   "metadata": {},
   "source": [
    "## Ziekte prevalentie\n",
    "\n",
    "Gegeven een menselijke populatie, weten we dat er over een jaar een fractie $\\theta$ van deze mensen griep zullen krijgen.\n",
    "We willen nu op een correct Bayesiaanse wijze deze fractie berekenen, gegeven een aantal datapunten.\n",
    " \n",
    "Wat we weten is dat 10 mensen jouw facebook poll hebben beantwoord. Deze poll vertelt ons dat maar 1 van deze personen griep heeft gehad vorig jaar."
   ]
  },
  {
   "cell_type": "code",
   "execution_count": null,
   "metadata": {},
   "outputs": [],
   "source": [
    "population = 100\n",
    "infected = 10"
   ]
  },
  {
   "cell_type": "markdown",
   "metadata": {},
   "source": [
    "Gegeven deze datapunten $D$, kunnen we nu de posterior distributie van $\\theta$ berekenen.\n",
    "\n",
    "$$P(\\theta\\ |\\ D) \\sim P(D\\ |\\ \\theta) P(\\theta)$$\n",
    "\n",
    "Hiervoor hebben we een prior en likelihood functie nodig:\n",
    "* We nemen een 'flat' prior, omdat deze vaak niet-informatief is en we a priori niets weten over de onderliggende distributie. Dit komt overeen met een beta-distributie met parameters $(\\alpha = 1, \\beta = 1)$, aangezien deze uniform is over het interval $[0, 1]$.\n",
    "* We nemen de binomiaal distributie voor de likelihood. Dit lijkt een goede keuze, aangezien deze de kans op een bepaald aantal successen (in dit geval, mensen met griep) modelleert, gegeven een verwachte fractie $p$ van successen in $N$ experimenten.\n",
    "\n",
    "In dit specifiek geval, als we exact deze prior en likelihood functie gebruiken, is de posterior analytisch op te lossen.\n",
    "Meestal zal er dus daarentegen geen analytische oplossing bestaan.\n",
    "\n",
    "Voor dit specifiek voorbeeld hebben we dus in principe MCMC niet nodig. \n",
    "We kunnen via deze weg wel de 'echte' posterior vergelijken met onze benadering."
   ]
  },
  {
   "cell_type": "code",
   "execution_count": null,
   "metadata": {},
   "outputs": [],
   "source": [
    "a, b = 1, 1\n",
    "prior = lambda theta: st.beta.pdf(theta, a, b)\n",
    "lik = lambda theta: st.binom.pmf(infected, population, theta) if 0 <= theta <= 1 else 0\n",
    "post = lambda theta: st.beta.pdf(theta, a + infected, b + population - infected)\n",
    "\n",
    "plot_density(prior, \"Prior\");\n",
    "plot_density(lik, \"Likelihood\");\n",
    "plot_density(post, \"Posterior (deze heb je in principe niet)\");"
   ]
  },
  {
   "cell_type": "markdown",
   "metadata": {},
   "source": [
    "Bepaal nu het aantal iteraties, de 'target' distributie en 'proposal' distributie nodig om de posterior te benaderen met de MCMC methode. Aangezien de initialisatie van het algoritme een bias induceert op de eerste aantal samples, kunnen we ook een aantal burn-in samples opgeven die niet in rekening gebracht zullen worden om de uiteindelijke posterior te bepalen."
   ]
  },
  {
   "cell_type": "code",
   "execution_count": null,
   "metadata": {},
   "outputs": [],
   "source": [
    "target = lambda theta: lik(theta)*prior(theta)\n",
    "proposal = lambda theta: theta + np.random.normal(0, 0.1)\n",
    "iters = 5000\n",
    "burn_in = 100\n",
    "\n",
    "def metropolis(target, proposal, iters):\n",
    "    theta = 0.5 # initiele guess op de x-as\n",
    "    samples = [theta] # lijst van samples\n",
    "    for i in range(iters): # loop voor een aantal iteraties\n",
    "        # stap 1: stel een nieuwe waarde op basis van de huidige waarde\n",
    "        theta_p = proposal(theta) \n",
    "        # stap 2: bereken de acceptatie ratio\n",
    "        rho = min(1, target(theta_p) / target(theta))\n",
    "        # stap 3: accepteer of verwerp de nieuwe waarde\n",
    "        u = np.random.uniform()\n",
    "        if u < rho:\n",
    "            theta = theta_p\n",
    "        # stap 4: sla de waarde op\n",
    "        samples.append(theta)\n",
    "    return samples\n",
    "\n",
    "samples = metropolis(target, proposal, iters)\n",
    "plt.hist(samples[burn_in:], 50, density=1, facecolor='green', alpha=0.6);\n",
    "plot_density(post)"
   ]
  },
  {
   "cell_type": "markdown",
   "metadata": {},
   "source": [
    "---\n",
    "\n",
    "## Oefening 2: Niet-analytische integraal\n",
    "\n",
    "Als we essentiele informatie hebben over de onderliggende distributie, is het handig om deze in de prior te encoderen. Dit maakt de prior informatief, maar kan de normaliserende factor in Bayes' rule niet analytisch integreerbaar maken.\n",
    "Deze gevallen maakt de MCMC methode een populaire techniek.\n",
    "\n",
    "Neem bijvoorbeeld de volgende prior:"
   ]
  },
  {
   "cell_type": "code",
   "execution_count": null,
   "metadata": {},
   "outputs": [],
   "source": [
    "prior = lambda theta: 2 - abs(theta * 4 - 2) if 0 <= theta <= 1 else 0\n",
    "plot_density(prior, \"Prior\");"
   ]
  },
  {
   "cell_type": "markdown",
   "metadata": {},
   "source": [
    "Pas de MCMC methode toe op deze prior."
   ]
  },
  {
   "cell_type": "code",
   "execution_count": null,
   "metadata": {},
   "outputs": [],
   "source": [
    "target = lambda theta: lik(theta)*prior(theta)\n",
    "samples = metropolis(target, proposal, iters)\n",
    "plt.hist(samples[burn_in:], 50, density=1, facecolor='green', alpha=0.6);\n",
    "plot_density(post)"
   ]
  },
  {
   "cell_type": "markdown",
   "metadata": {},
   "source": [
    "<b>VRAAG:</b>\n",
    "\n",
    "Je ziet dat er discrepantie tussen de posterior distributies met en zonder informatieve prior. \n",
    "\n",
    "- Waarom?\n",
    "- Hoe zou je het effect van de priors kunnen wegkrijgen? \n",
    "- Toon dit aan door de bovenstaande code aan te passen.\n",
    "\n",
    "<b>ANTWOORD:</b>\n",
    "\n",
    "- Probeer de variabelen 'population' en 'infected' eens respectievelijk op 100 en 10 te zetten.\n",
    "- Dit komt overeen met het aantal samples te verhogen, waardoor de geobserveerde data (likelihood) meer impact heeft dan vooraf aangenomen informatie (prior)."
   ]
  },
  {
   "cell_type": "markdown",
   "metadata": {},
   "source": [
    "---\n",
    "\n",
    "## Oefening 3: Metropolis-Hastings algoritme\n",
    "\n",
    "In wat volgt zullen we het Metropolis-Hastings algoritme implementeren aan de hand van een case. Het is de bedoeling dat aan het einde van deze oefening je een begrip hebt van hoe het algoritme in elkaar zit en wat de verschillende onderdelen zijn.\n",
    "\n",
    "#### Introductie\n",
    "\n",
    "De case is de volgende:\n",
    "\n",
    "Koning Markov is koning van een eilandengroep bestaande uit 5 eilanden. Eén van zijn verplichtingen als koning is dat hij op elk eiland een bepaalde tijd verblijft, en dat die tijd proportioneel is aan de populatie van het eiland. \n",
    "\n",
    "De koning wil niet bijhouden hoe vaak en hoe lang hij elk van de eilanden al bezocht heeft. Bovendien heeft hij een hekel aan routine, m.a.w. hij wil niet elke nacht weten op welk eiland hij de volgende nacht zal zijn. \n",
    "\n",
    "Zijn adviseur Metropolis moet een systeem vinden dat voldoet aan de eisen van het koningschap, en aan de volgende regels:\n",
    "* Het systeem kiest de eilanden waar de koning 's nachts verblijft ad random.\n",
    "* Het systeem vereist niet dat de koning zich herinnert waar hij in het verleden verbleven heeft.\n",
    "* Het systeem vereist niet dat de koning de omvang van de populatie van de eilanden onthoudt.\n",
    "De koning kan wel aan de klerk vragen wat de omvang van de populatie van het eiland is waarop hij verblijft. De populatieinfo die verkregen kan worden van de andere eilanden is beperkt. Het neemt immers een halve dag in beslag om te zeilen van één eiland naar een andere. Bijgevolg is de hoeveelheid informatie die hij kan verzamelen in één dag dus beperkt.\n",
    "\n",
    "Metropolis bedacht het volgende systeem (in de veronderstelling dat de koning regeert over 5 eilanden):\n",
    "* Iedere morgen vraagt de koning aan de klerk wat de populatie is van het eiland waar ze momenteel verblijven.\n",
    "* Vervolgens wordt er ad random één van de vier andere eilanden gekozen en reizen ze er naar toe tijdens de voormiddag.\n",
    "    * Stel J(b|a) is de conditionele probabiliteit om eiland b te selecteren als eiland a het eiland is waarop ze momenteel verblijven.\n",
    "    * J is niet afhankelijk van de omvang van de populaties op de eilanden aangezien de koning die niet kan herinneren.\n",
    "* Tijdens de lunch op het voorgestelde eiland (dit is het eiland naar waar ze tijdens de voormiddag gevaren waren), vragen ze naar de bevolkingsomvang van het eiland.\n",
    "    * Als de bevolking van het voorgestelde eiland groter is dan die van het eiland waarvan ze in de morgen vertrokken waren, dan blijven ze op het eiland voor de nacht.\n",
    "    * Als de bevolking kleiner is dan blijven ze met een probabiliteit A op het voorgestelde eiland, anders keren ze terug naar het vorige eiland.\n",
    "    \n",
    "Metropolis is er van overtuigd dat voor de correcte keuzes van J en A, de regels van het koningschap voldaan zullen zijn."
   ]
  },
  {
   "cell_type": "markdown",
   "metadata": {},
   "source": [
    "<b>VRAAG:</b>\n",
    "\n",
    "Metropolis stelt echter wel vast dat A niet 0 of 1 mag zijn. Waarom?*\n",
    "\n",
    "<b>ANTWOORD:</b>\n",
    "\n",
    "Indien A = 0 dan zal de koning altijd terugkeren naar het vorige eiland, ongeacht de verhouding van de bevolkingsomvangen van het voorgestelde en het vorige eiland. Het omgekeerde geldt als A = 1."
   ]
  },
  {
   "cell_type": "markdown",
   "metadata": {},
   "source": [
    "#### Implementatie"
   ]
  },
  {
   "cell_type": "code",
   "execution_count": null,
   "metadata": {},
   "outputs": [],
   "source": [
    "def jump_to_any_island(current: int, other: int, count: int) -> float:\n",
    "    \n",
    "    \"\"\"\n",
    "    Deze functie geeft aan iedere huidige eiland -> voorgestelde eiland sprong\n",
    "    een gelijke probabiliteit.\n",
    "    \n",
    "    Parameters\n",
    "    ----------\n",
    "    current: int\n",
    "        current is de index van het huidige eiland.\n",
    "    other: int\n",
    "        other is de index van het andere eiland.\n",
    "    count: int\n",
    "        count is het aantal eilanden waarover de koning regeert.\n",
    "    \n",
    "    Raises\n",
    "    ------\n",
    "    None\n",
    "    \n",
    "    Returns\n",
    "    -------\n",
    "     De probabiliteit dat de koning van het huidige eiland (current) naar het andere eiland (other) springt\n",
    "        PS: we willen hier een uniforme verdeling, dus de kans dat de koning van eiland 1 naar eiland 2 springt is gelijk aan de kans dat hij van eiland 2 naar eiland 1 springt.\n",
    "    \"\"\"\n",
    "    \n",
    "    return 1 / (count - 1)"
   ]
  },
  {
   "cell_type": "code",
   "execution_count": null,
   "metadata": {},
   "outputs": [],
   "source": [
    "def koning_markov(num_steps: int, population: list, island_names: list, start: [int, str], J: \"pyObj\") -> pd.DataFrame:\n",
    "    \n",
    "    \"\"\"\n",
    "    Deze functie bepaalt de eilanden die de koning bezoekt.\n",
    "    \n",
    "    Parameters\n",
    "    ----------\n",
    "    num_steps: int\n",
    "        Aantal iteraties/nachten van de koning.\n",
    "    population: list\n",
    "        Een list dat de bevolkingsomvang voor elk eiland bevat.\n",
    "    island_names: list\n",
    "        Een list dat de namen van de eilanden bevat. De namen kunnen\n",
    "        integers of strings zijn.\n",
    "    start: int/str\n",
    "        Bepaalt het eiland van waar de simulatie start. De waarde \n",
    "        moet overeenkomen met een naam van een eiland.\n",
    "    J:\n",
    "        J is een functie die bepaalt wat de probabiliteit is dat er\n",
    "        gesprongen wordt naar een bepaalt eiland.\n",
    "    \n",
    "    Returns\n",
    "    -------\n",
    "    list\n",
    "        een lijst met de bezochte eilanden bevat\n",
    "    \"\"\"\n",
    "    \n",
    "    num_islands = len(population) # aantal eilanden\n",
    "    islands_seq = [start] # de volgorde van bezochte eilanden, i.e. 'de samples'\n",
    "    current = island_names.index(start) # initiele guess => het eiland waar de koning zich bevindt\n",
    "    \n",
    "    # For loop die één voor één de nachten simuleert.\n",
    "    for _ in range(num_steps):\n",
    "        \n",
    "        # Waar kan de koning naartoe springen?\n",
    "        other_islands = list(set(list(range(num_islands))) - set([current])) \n",
    "        \n",
    "        # stap 1: ad random een nieuw eiland kiezen op basis van de populatie hoeveelheiden\n",
    "        weights = [J(current, other_islands[i], len(population)) for i in range(len(other_islands))]\n",
    "        next = random.choices(other_islands, weights=weights)[0]\n",
    "       \n",
    "        # stap 2: berekenen de acceptatie ratio\n",
    "        # met andere woorden: de probabiliteit om op een voorgestelde eiland te blijven.\n",
    "        # -> hoe groter de populatie van het nieuw eiland -> hoe kleiner de kans dat de koning daar blijft.\n",
    "        prob_move = population[next] / population[current]\n",
    "\n",
    "        # stap 3: accepteer of verwerp de nieuwe waarde\n",
    "        # met andere woorden: de koning blijft op het huidige eiland of hij springt naar het voorgestelde eiland.\n",
    "        u = np.random.uniform()\n",
    "        if u < prob_move:\n",
    "            current = next\n",
    "\n",
    "        # bijhouden van huidig eiland, i.e. de 'sample' bijhouden\n",
    "        islands_seq.append(current)\n",
    "    \n",
    "    volgorde = [island_names[island_idx] for island_idx in islands_seq[1:]]\n",
    "    return volgorde"
   ]
  },
  {
   "cell_type": "markdown",
   "metadata": {},
   "source": [
    "***Vraag:***\n",
    "\n",
    "*Vraag: Welke distributie (de frequentie dat elk eiland bezocht werd) verwachten we voor de situatie waarin er 5 eilanden zijn (1, 2, 3, 4, 5) met de volgende bevolking (1, 2, 3, 4, 5)? Denk hierbij aan de regels die opgelegd zijn aan het koningschap.*\n",
    "\n",
    "- Antwoord: Het koningschap vereist dat de tijd dat de koning spendeert op een eiland proportioneel is aan de bevolkingsomvang van het eiland. \n",
    "\n",
    "- Dit betekent het volgende:\n",
    "    * Eiland 1: 1 / (1+2+3+4+5) = 1/15 = 0.067\n",
    "    * Eiland 2: 2 / (1+2+3+4+5) = 2/15 = 0.133\n",
    "    * Eiland 3: 3 / (1+2+3+4+5) = 3/15 = 0.2\n",
    "    * Eiland 4: 4 / (1+2+3+4+5) = 4/15 = 0.267\n",
    "    * Eiland 5: 5 / (1+2+3+4+5) = 5/15 = 0.333\n",
    "\n",
    "- Metropolis-Hastings convergeert naar deze verdeling, indien de voorwaarden voor een stationaire distributie van een Markov Chain voldaan zijn (e.g. de stationaire distributie bestaat en is uniek (dit laatste is gegarandeerd door de ergodiciteit van het Markov process).\n",
    "\n",
    "*Vraag: Wat stellen we vast ivm de verdeling van de eilanden die bezocht werden?*\n",
    "\n",
    "- Antwoord: We zien dat het aantal nachten dat de koning de eilanden bezoekt de verdeling goed benadert. De benadering is uiteraard niet perfect. Deze wordt beter naarmate meer iteraties/nachten gesimuleerd worden."
   ]
  },
  {
   "cell_type": "code",
   "execution_count": null,
   "metadata": {},
   "outputs": [],
   "source": [
    "# Runs een simulatie waarbij er naar eender welk eiland gesprongen mag worden.\n",
    "eiland_volgorde = koning_markov(5000, [1,2,3,4,5], [1,2,3,4,5], 2, jump_to_any_island)\n",
    "df = pd.DataFrame(list(eiland_volgorde))\n",
    "df.columns = [\"data\"]\n"
   ]
  },
  {
   "cell_type": "code",
   "execution_count": null,
   "metadata": {},
   "outputs": [],
   "source": [
    "# Visualiseert de frequentie dat de eilanden bezocht werden.\n",
    "fig = px.histogram(df, \n",
    "                   x=\"data\", \n",
    "                   title=\"De frequentie van hoe vaak een eiland bezocht werd\", \n",
    "                   histnorm='probability density')\n",
    "fig.show()"
   ]
  },
  {
   "cell_type": "markdown",
   "metadata": {},
   "source": [
    "### ALTERNATIEF: Wat als de koning enkel wijzerszin mag gaan?\n",
    "\n",
    "*Vraag: Wat stellen we vast ivm de verdeling van de eilanden die bezocht werden?*\n",
    "\n",
    "- Antwoord: We zien dat het algoritme helemaal niet de correcte verdeling benadert. Dit heeft te maken met het feit dat de voorwaarden van irreduceerbaarheid en aperiodiciteit geschonden zijn. De proposal distributie die we in de eerste situatie gebruikt hebben is symmetrisch. Alle eilanden hebben een zelfde kans om gekozen te worden. In de tweede situatie gebruiken we een asymmetrische proposal distributie. Het Metropolis-Hastings algoritme kan hiermee overweg. Maar, de proposal distributie schendt echter een aantal belangrijke voorwaarden ivm de Markov Chain. Dit leidt tot problemen met de convergentie."
   ]
  },
  {
   "cell_type": "code",
   "execution_count": null,
   "metadata": {},
   "outputs": [],
   "source": [
    "def jump_only_clockwise(current: int, other: int, count: int) -> float:\n",
    "    \n",
    "    \"\"\"\n",
    "    Deze functie laat enkel sprongen in wijzerzin toe (wijzerzin wordt hier \n",
    "    geinterpreteerd als index 0 -> 1 -> 2 -> 3 -> ... -> 0 -> ...).\n",
    "    \n",
    "    Parameters\n",
    "    ----------\n",
    "    current: int\n",
    "        current is de index van het huidige eiland.\n",
    "    other: int\n",
    "        other is de index van het andere eiland.\n",
    "    count: int\n",
    "        count is het aantal eilanden waarover de koning regeert.\n",
    "\n",
    "    Returns\n",
    "    -------\n",
    "    float:\n",
    "        De probabiliteit dat de koning van het huidige eiland (current) naar het andere eiland (other) springt\n",
    "    \"\"\"\n",
    "    \n",
    "    # De index van het huidige (current) island wordt verhoogd met 1.\n",
    "    # Via de modulo operator bekomen we dan de index van het volgende\n",
    "    # eiland (in wijzerzin). \n",
    "    index_of_next_island = (current + 1) % count\n",
    "    \n",
    "    return 1.0 if other == index_of_next_island else 0.0"
   ]
  },
  {
   "cell_type": "code",
   "execution_count": null,
   "metadata": {},
   "outputs": [],
   "source": [
    "# Runs een simulatie waarbij er enkel in wijzerzin gesprongen mag worden.\n",
    "clockwise_result = koning_markov(5000, [1,2,3,4,5], [1,2,3,4,5], 2, jump_only_clockwise)\n",
    "df2 = pd.DataFrame(list(clockwise_result))\n",
    "df2.columns = [\"data\"]\n"
   ]
  },
  {
   "cell_type": "code",
   "execution_count": null,
   "metadata": {},
   "outputs": [],
   "source": [
    "# Visualiseert de frequentie dat de eilanden bezocht werden.\n",
    "fig = px.histogram(df2, \n",
    "                   x=\"data\", \n",
    "                   title=\"De frequentie van hoe vaak een eiland bezocht werd (clockwise)\", \n",
    "                   histnorm='probability density')\n",
    "fig.show()"
   ]
  },
  {
   "cell_type": "code",
   "execution_count": null,
   "metadata": {},
   "outputs": [],
   "source": []
  }
 ],
 "metadata": {
  "anaconda-cloud": {},
  "kernelspec": {
   "display_name": "courses",
   "language": "python",
   "name": "python3"
  },
  "language_info": {
   "codemirror_mode": {
    "name": "ipython",
    "version": 3
   },
   "file_extension": ".py",
   "mimetype": "text/x-python",
   "name": "python",
   "nbconvert_exporter": "python",
   "pygments_lexer": "ipython3",
   "version": "3.12.9"
  }
 },
 "nbformat": 4,
 "nbformat_minor": 1
}
